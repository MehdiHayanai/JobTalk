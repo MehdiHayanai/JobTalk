{
 "cells": [
  {
   "cell_type": "markdown",
   "metadata": {},
   "source": [
    "# BotX - Selenium Automation Class\n",
    "BotX is a Python class designed to facilitate automated tasks and interactions with web elements using the Selenium WebDriver."
   ]
  },
  {
   "cell_type": "code",
   "execution_count": 1,
   "metadata": {},
   "outputs": [],
   "source": [
    "from botZ.botX import BotX"
   ]
  },
  {
   "cell_type": "markdown",
   "metadata": {},
   "source": [
    "# Overview\n",
    "This class provides a wide range of functionalities for web automation, including:\n",
    "\n",
    "* Browser launch and configuration.\n",
    "* Element selection and interaction.\n",
    "* Navigation and page manipulation.\n",
    "* Page source retrieval and actions like printing to PDF."
   ]
  },
  {
   "cell_type": "code",
   "execution_count": 2,
   "metadata": {},
   "outputs": [],
   "source": [
    "bot = BotX(\"amazonTest\",\"https://www.amazon.com/\")\n",
    "bot.launch_driver()"
   ]
  },
  {
   "cell_type": "code",
   "execution_count": 3,
   "metadata": {},
   "outputs": [
    {
     "name": "stdout",
     "output_type": "stream",
     "text": [
      "------ Elements of type 1 ------\n",
      "Tag Name: input\n",
      "Element Name: dropdown-selection\n",
      "Element Type: hidden\n",
      "Tag Name: input\n",
      "Element Name: dropdown-selection-ubb\n",
      "Element Type: hidden\n",
      "Tag Name: input\n",
      "Element Name: glow-validation-token\n",
      "Element Type: hidden\n",
      "Tag Name: input\n",
      "Element Name: glow-destination-type\n",
      "Element Type: hidden\n",
      "Tag Name: input\n",
      "Element Name: field-keywords\n",
      "Element Type: text\n",
      "Tag Name: input\n",
      "Element Name: \n",
      "Element Type: submit\n",
      "Tag Name: input\n",
      "Element Name: \n",
      "Element Type: hidden\n",
      "Tag Name: input\n",
      "Element Name: ue_back\n",
      "Element Type: hidden\n"
     ]
    }
   ],
   "source": [
    "# Find all elements of type \"input\"\n",
    "\n",
    "input_elements = bot.select_all(\"tag_name\", \"input\")\n",
    "my_input_elements = []\n",
    "\n",
    "# Print some information about the elements found\n",
    "for index, elements in enumerate([input_elements]):\n",
    "    print(f\"------ Elements of type {index + 1} ------\")\n",
    "    for element in elements:\n",
    "        web_element_dict = {\n",
    "            \"web_element\": element,\n",
    "            \"tag_name\": element.tag_name,\n",
    "            \"name\": element.get_attribute('name'),\n",
    "            \"type\": element.get_attribute('type'),\n",
    "            \"id\": element.get_attribute('id'),\n",
    "        }\n",
    "        print(f'Tag Name: {web_element_dict[\"tag_name\"]}')\n",
    "        print(f'Element Name: {web_element_dict[\"name\"]}')\n",
    "        print(f'Element Type: {web_element_dict[\"type\"]}')\n",
    "        my_input_elements.append(web_element_dict)"
   ]
  },
  {
   "cell_type": "code",
   "execution_count": 4,
   "metadata": {},
   "outputs": [
    {
     "name": "stdout",
     "output_type": "stream",
     "text": [
      "Found search field\n",
      "Found submit button\n"
     ]
    }
   ],
   "source": [
    "# Find the search field and submit button\n",
    "search_field_name = \"field-keywords\"\n",
    "submit_seach_type = \"submit\"\n",
    "\n",
    "# look for input field \n",
    "for element in my_input_elements:\n",
    "    if element[\"name\"] == search_field_name:\n",
    "        print(\"Found search field\")\n",
    "        search_field = element[\"web_element\"]\n",
    "    if element[\"type\"] == submit_seach_type:\n",
    "        print(\"Found submit button\")\n",
    "        submit_button = element[\"web_element\"]"
   ]
  },
  {
   "cell_type": "markdown",
   "metadata": {},
   "source": [
    "Launch a search for python on amazon"
   ]
  },
  {
   "cell_type": "code",
   "execution_count": 5,
   "metadata": {},
   "outputs": [],
   "source": [
    "bot.put_text(search_field, \"python\")\n",
    "bot.click(submit_button)"
   ]
  },
  {
   "cell_type": "code",
   "execution_count": 6,
   "metadata": {},
   "outputs": [
    {
     "name": "stdout",
     "output_type": "stream",
     "text": [
      "Found 357 raw listings\n"
     ]
    }
   ],
   "source": [
    "# a listing contains the following tags \n",
    "# h2 , a, img, \n",
    "\n",
    "tag_restriction = [\"h2\", \"a\", \"img\", \"span\"]\n",
    "raw_listings = bot.find_elements_with_restrictions(\"div\", tag_restriction)\n",
    "print(f\"Found {len(raw_listings)} raw listings\")"
   ]
  },
  {
   "cell_type": "markdown",
   "metadata": {},
   "source": [
    "Extra logic to destill the data we want"
   ]
  },
  {
   "cell_type": "code",
   "execution_count": 7,
   "metadata": {},
   "outputs": [],
   "source": [
    "#print h2 text\n",
    "listing_list = []\n",
    "\n",
    "\n",
    "for listing in raw_listings:\n",
    "\n",
    "    listing_template = {\n",
    "        \"title\": \"\",\n",
    "        \"web_element\": None\n",
    "    }\n",
    "    # find price tag from span\n",
    "    h2 = bot.select_from_element(listing, \"tag_name\", \"h2\")\n",
    "    current_title = h2.text\n",
    "    # Delete element with same title\n",
    "    if len(listing_list) > 0:\n",
    "        if listing_list[-1][\"title\"] == current_title:\n",
    "            listing_list[-1][\"web_element\"] = listing\n",
    "        else:\n",
    "            listing_template[\"title\"] = current_title\n",
    "            listing_template[\"web_element\"] = listing\n",
    "            listing_list.append(listing_template)\n",
    "    else:\n",
    "        listing_template[\"title\"] = current_title\n",
    "        listing_template[\"web_element\"] = listing\n",
    "        listing_list.append(listing_template)"
   ]
  },
  {
   "cell_type": "code",
   "execution_count": 10,
   "metadata": {},
   "outputs": [
    {
     "name": "stdout",
     "output_type": "stream",
     "text": [
      "* Python Programming for Beginners: Unlock the Secrets of High-Demand Skills | Learn Python Programming from Zero to Hero with Real-World Exercises & Samples for a Successful Career in the IT Industry\n",
      "* Python Crash Course, 3rd Edition: A Hands-On, Project-Based Introduction to Programming\n",
      "* Automate the Boring Stuff with Python, 2nd Edition: Practical Programming for Total Beginners\n",
      "* Python Programming Language\n",
      "* Coding for Kids: Python: Learn to Code with 50 Awesome Games and Activities\n",
      "* Fluent Python: Clear, Concise, and Effective Programming\n",
      "* Learning Python, 5th Edition\n",
      "* Python Programming for Beginners: The Complete Guide to Mastering Python in 7 Days with Hands-On Exercises – Top Secret Coding Tips to Get an Unfair Advantage and Land Your Dream Job!\n",
      "* Python Standard Library (Quickstudy Computer)\n",
      "* Python for Data Analysis: Data Wrangling with pandas, NumPy, and Jupyter\n",
      "* Coding for Kids: Python: Learn to Code with 50 Awesome Games and Activities\n",
      "* Introducing Python: Modern Computing in Simple Packages\n",
      "* Python 3: The Comprehensive Guide to Hands-On Python Programming\n",
      "* Python (2nd Edition): Learn Python in One Day and Learn It Well. Python for Beginners with Hands-on Project. (Learn Coding Fast with Hands-On Project Book 1)\n",
      "* Python QuickStart Guide: The Simplified Beginner's Guide to Python Programming Using Hands-On Projects and Real-World Applications (QuickStart Guides™ - Technology)\n",
      "* Python Pocket Reference: Python In Your Pocket (Pocket Reference (O'Reilly))\n",
      "* Python Programming and SQL: 5 books in 1 - The #1 Coding Course from Beginner to Advanced. Learn it Well & Fast (2024) (Computer Programming)\n",
      "* Effective Python: 90 Specific Ways to Write Better Python (Effective Software Development Series)\n",
      "* Python All-in-One For Dummies (For Dummies (Computer/Tech))\n",
      "* The Big Book of Small Python Projects: 81 Easy Practice Programs\n",
      "* Python\n",
      "* GeeekPi Raspberry Pi Pico Micro Python Programing Kit with Raspberry Pi Pico, Breadboard, I2C 1602 LCD Display Module for Raspberry Pi Beginners & Software Engineer\n",
      "* Invent Your Own Computer Games with Python, 4th Edition\n",
      "* Python Practice Makes a Master: 120 ‘Real World’ Python Exercises with more than 220 Concepts Explained (Mastering Python Programming from Scratch)\n",
      "* Python for Beginners: A Crash Course Guide to Learn Python in 1 Week\n",
      "* Learn AI-assisted Python Programming: With GitHub Copilot and ChatGPT\n",
      "* Python QuickStart Guide: The Simplified Beginner's Guide to Python Programming Using Hands-On Projects and Real-World Applications (QuickStart Guides™ - Technology)\n",
      "* Python Programming and SQL: 5 books in 1 - The #1 Coding Course from Beginner to Advanced. Learn it Well & Fast (2023) (Computer Programming)\n",
      "* Modern Data Architectures with Python: A practical guide to building and deploying data pipelines, data warehouses, and data lakes with Python\n",
      "* Python Programming Bible: [3 in 1] The Complete Crash Course to Learn and Explore Python beyond the Basics. Including Examples and Practical Exercises to Master Python from Beginners to Pro\n",
      "* Football Analytics with Python & R: Learning Data Science Through the Lens of Sports\n",
      "* Think Python: How to Think Like a Computer Scientist\n",
      "* Python for Kids, 2nd Edition: A Playful Introduction to Programming\n",
      "* Better Python Code: A Guide for Aspiring Experts\n",
      "* Cybersecurity Fundamentals: Best Security Practices (cybersecurity beginner)\n",
      "* Python for Tweens and Teens - 2nd Edition (Black & White Version): Learn Computational and Algorithmic Thinking\n",
      "* Python Programming For Beginners: Python Mastery in 7 Days: Top-Secret Coding Tips with Hands-On Exercises for Your Dream Job\n",
      "* Python Programming for Beginners: The Complete Guide to Mastering Python in 7 Days with Hands-On Exercises – Top Secret Coding Tips to Get an Unfair Advantage and Land Your Dream Job!\n",
      "* Head First Python: A Learner's Guide to the Fundamentals of Python Programming, A Brain-Friendly Guide\n",
      "* Modeling and Simulation in Python: An Introduction for Scientists and Engineers\n",
      "* Python for Everybody: Exploring Data in Python 3\n",
      "* Impractical Python Projects: Playful Programming Activities to Make You Smarter\n",
      "* Hands-On Web Scraping with Python: Extract quality data from the web using effective Python techniques\n",
      "* Python Programming for Beginners: The #1 Crash Course to Learn Python Programming Quickly With Hands-On Exercises (2023) (Computer Programming)\n",
      "* Monty Python And The Holy Grail\n",
      "* Python Distilled (Developer's Library)\n",
      "* Python Crash Course, 2nd Edition: A Hands-On, Project-Based Introduction to Programming\n",
      "* Python Basics: A Practical Introduction to Python 3\n",
      "* Monty Python and the Holy Grail [Blu-ray]\n",
      "* Beginner's Step-by-Step Coding Course: Learn Computer Programming the Easy Way (DK Complete Courses)\n",
      "* The Python Bible 7 in 1: Volumes One To Seven (Beginner, Intermediate, Data Science, Machine Learning, Finance, Neural Networks, Computer Vision)\n",
      "* Python Playground, 2nd Edition: Geeky Projects for the Curious Programmer\n",
      "* Learn Python 3 the Hard Way: A Very Simple Introduction to the Terrifyingly Beautiful World of Computers and Code (Zed Shaw's Hard Way Series)\n",
      "* Object-Oriented Python: Master OOP by Building Games and GUIs\n",
      "* Beyond the Basic Stuff with Python: Best Practices for Writing Clean Code\n",
      "* Causal Inference and Discovery in Python: Unlock the secrets of modern causal machine learning with DoWhy, EconML, PyTorch and more\n",
      "* Black Hat Python, 2nd Edition: Python Programming for Hackers and Pentesters\n",
      "* Mastering Python Data Structures: A Beginner's Guide to Tuples, Lists, Sets, and Dictionaries for Tech Enthusiasts : Unleash the Power of Python with Step-by-Step Learning and Practical Examples\n",
      "* Machine Learning with PyTorch and Scikit-Learn: Develop machine learning and deep learning models with Python\n",
      "* Deep Sea Python\n",
      "* Machine Learning with Python Cookbook: Practical Solutions from Preprocessing to Deep Learning\n",
      "* Learn Python Quickly: A Complete Beginner’s Guide to Learning Python, Even If You’re New to Programming (Crash Course With Hands-On Project)\n"
     ]
    }
   ],
   "source": [
    "for listing in listing_list:\n",
    "    print(\"*\", listing[\"title\"])"
   ]
  },
  {
   "cell_type": "code",
   "execution_count": 9,
   "metadata": {},
   "outputs": [],
   "source": [
    "bot.kill()"
   ]
  }
 ],
 "metadata": {
  "kernelspec": {
   "display_name": "env",
   "language": "python",
   "name": "python3"
  },
  "language_info": {
   "codemirror_mode": {
    "name": "ipython",
    "version": 3
   },
   "file_extension": ".py",
   "mimetype": "text/x-python",
   "name": "python",
   "nbconvert_exporter": "python",
   "pygments_lexer": "ipython3",
   "version": "3.9.13"
  }
 },
 "nbformat": 4,
 "nbformat_minor": 2
}
