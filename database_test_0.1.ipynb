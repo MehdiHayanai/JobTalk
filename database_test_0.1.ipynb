{
 "cells": [
  {
   "cell_type": "markdown",
   "metadata": {},
   "source": [
    "# Database test"
   ]
  },
  {
   "cell_type": "code",
   "execution_count": 1,
   "metadata": {},
   "outputs": [
    {
     "data": {
      "text/plain": [
       "True"
      ]
     },
     "execution_count": 1,
     "metadata": {},
     "output_type": "execute_result"
    }
   ],
   "source": [
    "from langchain.embeddings import OpenAIEmbeddings\n",
    "from langchain.vectorstores import MongoDBAtlasVectorSearch\n",
    "from pymongo.mongo_client import MongoClient\n",
    "from pymongo.server_api import ServerApi\n",
    "from langchain.prompts import PromptTemplate\n",
    "from dotenv import load_dotenv\n",
    "import os\n",
    "\n",
    "load_dotenv()"
   ]
  },
  {
   "cell_type": "code",
   "execution_count": 2,
   "metadata": {},
   "outputs": [],
   "source": [
    "DB_NAME = \"jobFinder\"\n",
    "COLLECTION_NAME = \"cv_mehdi\"\n",
    "ATLAS_VECTOR_SEARCH_INDEX_NAME = \"vector_search_index\"\n",
    "MONGODB_ATLAS_CLUSTER_URI = os.getenv(\"MONGO_URI\")"
   ]
  },
  {
   "cell_type": "code",
   "execution_count": 3,
   "metadata": {},
   "outputs": [],
   "source": [
    "mongo_client = MongoClient(MONGODB_ATLAS_CLUSTER_URI, server_api=ServerApi('1'))\n",
    "collection = mongo_client[DB_NAME][COLLECTION_NAME]"
   ]
  },
  {
   "cell_type": "code",
   "execution_count": 4,
   "metadata": {},
   "outputs": [],
   "source": [
    "embeddings = OpenAIEmbeddings()#disallowed_special=())\n",
    "vector_search = MongoDBAtlasVectorSearch(collection, embedding=embeddings, index_name=ATLAS_VECTOR_SEARCH_INDEX_NAME, embedding_key=\"embedding\")"
   ]
  },
  {
   "cell_type": "code",
   "execution_count": 5,
   "metadata": {},
   "outputs": [
    {
     "name": "stdout",
     "output_type": "stream",
     "text": [
      "Pinged your deployment. You successfully connected to MongoDB!\n"
     ]
    }
   ],
   "source": [
    "try:\n",
    "    mongo_client.admin.command('ping')\n",
    "    print(\"Pinged your deployment. You successfully connected to MongoDB!\")\n",
    "except Exception as e:\n",
    "    print(e)"
   ]
  },
  {
   "cell_type": "code",
   "execution_count": 6,
   "metadata": {},
   "outputs": [
    {
     "name": "stdout",
     "output_type": "stream",
     "text": [
      "score : 0.8940367102622986   \n",
      "- French TCF C2\n",
      "- English TOIEC C1*\n",
      "- Arabic (native language)\n",
      "- German A1\n",
      "\n",
      "-----------------------------------------------------\n",
      "score : 0.8802566528320312   \n",
      "Programming Languages:\n",
      "- Python: Proficient for 6 years, used in data analysis, machine learning, and web development.\n",
      "- C++ and C: Proficient for 6 years, applied in software development and algorithm design.\n",
      "- Matlab: Experience of 4 years, primarily used for scientific computing, numerical analysis, and algorithm prototyping.\n",
      "- JavaScript: Proficiency of 3 years, employed in web development for frontend interactivity and functionality.\n",
      "- SQL for database management (SQLite, MySQL, PostgreSQL)\n",
      "Frameworks:\n",
      "- Frontend: Proficient in React and Svelte, used for developing dynamic and responsive user interfaces.\n",
      "- Backend: Proficient in Flask, Streamlit, and FastAPI, employed for creating backend services, APIs, and web applications.\n",
      "- Machine Learning: Competent in TensorFlow and PyTorch, utilized for implementing and deploying machine learning models in various projects.\n",
      "- Version Control: Proficient in Git for managing and tracking changes in codebase collaboration.\n",
      "- Office Suite: Proficient in Microsoft Office tools such as PowerPoint, Word, and Excel for documentation, presentation, and data analysis.\n",
      "\n",
      "-----------------------------------------------------\n",
      "score : 0.8799953460693359   \n",
      "1. Arts et Métiers – ParisTech: Grande École Program: Digital Engineering / Equivalent engineering degree BAC +5, Paris France campus, started in 2022 - expected completion in 2024\n",
      "2. École Nationale Supérieure d'Arts et Métiers, Meknes 2020-2022: Industrial Engineering cycle, Artificial Intelligence and Data Science option. Equivalent engineering degree BAC +5, Meknes Morocco campus. Started in 2020 - expected completion in 2024\n",
      "3. École Nationale Supérieure d'Arts et Métiers, Meknes 2018-2020: Integrated preparatory class, Equivalent to Bac +2. Meknes Morocco campus. Started in 2018 - finished in 2020\n",
      "4. Lycée Jeanne d'Arc Bac Science, with honors in Physics. Casablanca Morocco. Obtained in 2018\n",
      "\n",
      "-----------------------------------------------------\n"
     ]
    }
   ],
   "source": [
    "query = \"certifications\"\n",
    "\n",
    "docs = vector_search.similarity_search_with_score(query, k=3)\n",
    "for doc in docs:\n",
    "    print(\"score :\", doc[1], \" \",doc[0].page_content)\n",
    "    print(\"-----------------------------------------------------\")"
   ]
  },
  {
   "cell_type": "code",
   "execution_count": 7,
   "metadata": {},
   "outputs": [],
   "source": [
    "prompt_template =\"\"\"\n",
    "    You are a smart agent that can answer questions about CVs.\n",
    "    if the question is not related to CVs, you should answer \"I don't know please refer to Mehdi for more information\".\n",
    "    if the question is related to CVs, you should answer the question.\n",
    "    If the question was not clear enough, you should ask for more information.\n",
    "    if the question was in French, you should answer in French.\n",
    "    use the following information to answer the question:\n",
    "    {context}\n",
    "    question: {question}\n",
    "\"\"\"\n",
    "\n",
    "prompt = PromptTemplate(template=prompt_template, input_variables=[\"context\", \"question\"])"
   ]
  },
  {
   "cell_type": "code",
   "execution_count": 8,
   "metadata": {},
   "outputs": [
    {
     "name": "stdout",
     "output_type": "stream",
     "text": [
      "\n",
      "I don't know please refer to Mehdi for more information.\n"
     ]
    }
   ],
   "source": [
    "from langchain.chains import RetrievalQA\n",
    "from langchain.llms import OpenAI\n",
    "\n",
    "qa_retriever = vector_search.as_retriever(\n",
    "    search_type=\"similarity\",\n",
    "    search_kwargs={\"k\": 2},\n",
    "    return_vector=False,\n",
    ")\n",
    "llm = OpenAI(temperature=0.3, max_tokens=200, top_p=0.9)\n",
    "\n",
    "qa = RetrievalQA.from_chain_type(\n",
    "    llm=llm,\n",
    "    chain_type=\"stuff\",\n",
    "    retriever=qa_retriever,\n",
    "    return_source_documents=True,\n",
    "    chain_type_kwargs={\"prompt\": prompt},\n",
    ")\n",
    "\n",
    "docs = qa({\"query\": \"gpt-4 compute requirements\"})\n",
    "\n",
    "print(docs[\"result\"])\n"
   ]
  },
  {
   "cell_type": "code",
   "execution_count": 9,
   "metadata": {},
   "outputs": [
    {
     "name": "stdout",
     "output_type": "stream",
     "text": [
      "\n",
      "Mehdi is 21 years old.\n"
     ]
    }
   ],
   "source": [
    "docs = qa({\"query\": \"how old is Mehdi?\"})\n",
    "print(docs[\"result\"])"
   ]
  },
  {
   "cell_type": "markdown",
   "metadata": {},
   "source": [
    "# Agent section"
   ]
  },
  {
   "cell_type": "code",
   "execution_count": 10,
   "metadata": {},
   "outputs": [],
   "source": [
    "from langchain.tools import BaseTool, StructuredTool, Tool, tool\n",
    "from langchain.agents import AgentType, Tool, initialize_agent\n",
    "from langchain.agents.react.base import DocstoreExplorer\n",
    "from langchain.docstore import Wikipedia\n",
    "from langchain.llms import OpenAI\n",
    "from langchain.chat_models import ChatOpenAI\n",
    "from langchain.chains import LLMMathChain\n",
    "from langchain.agents import AgentType, initialize_agent, load_tools\n",
    "from langchain.agents.agent_toolkits import create_conversational_retrieval_agent\n",
    "from pydantic import BaseModel, Field"
   ]
  },
  {
   "cell_type": "code",
   "execution_count": 64,
   "metadata": {},
   "outputs": [],
   "source": [
    "llm = ChatOpenAI(temperature=0.2)"
   ]
  },
  {
   "cell_type": "code",
   "execution_count": 65,
   "metadata": {},
   "outputs": [],
   "source": [
    "qa_retriever = vector_search.as_retriever(\n",
    "    search_type=\"similarity\",\n",
    "    search_kwargs={\"k\": 1},\n",
    "    return_vector=False,\n",
    "    return_metadata=False,\n",
    ")"
   ]
  },
  {
   "cell_type": "code",
   "execution_count": 66,
   "metadata": {},
   "outputs": [],
   "source": [
    "from langchain.tools import tool\n",
    "from datetime import datetime\n",
    "\n",
    "@tool(\"current_date\", return_direct=False)\n",
    "def current_date(input:str) -> str:\n",
    "  \"\"\"Used to know the current date\"\"\"\n",
    "  return datetime.now()\n",
    "\n",
    "@tool(\"mehdi_cv_data\", return_direct=False)\n",
    "def mehdi_cv_data(input:str) -> str:\n",
    "  \"\"\"Used as bank of data for Mehdi CV the input should be a question related to the task to perform\"\"\"\n",
    "  context_helper = \"\\n\".join([ x[0].page_content for x in vector_search.similarity_search_with_score(input, k=4)])\n",
    "  return context_helper\n",
    "\n",
    "@tool(\"meaning_search\", return_direct=False)\n",
    "def meaning_search(input:str) -> str:\n",
    "  \"\"\"Used when you look for the meaning of a word\"\"\"\n",
    "  llm = OpenAI(temperature=0.3, max_tokens=50, top_p=0.9)\n",
    "  return llm(f\"What is {input}?\")\n",
    "\n",
    "@tool(\"no_answer_found\", return_direct=True)\n",
    "def no_answer_found(input:str) -> str:\n",
    "  \"\"\"Used when the question provided by the user was not found in the data bank example : when did Mehdi started working at Google? => no answer found\"\"\"\n",
    "  llm = OpenAI(temperature=0.8, max_tokens=50, top_p=0.9)\n",
    "  return str(llm(f\"answer with something that has the following meaning: I don't know or the input provided does not match any of my database information please refer to Mehdi for more information\"))\n",
    "  \n",
    "\n",
    "@tool(\"out_of_context\", return_direct=True)\n",
    "def out_of_context(input:str) -> str:\n",
    "  \"\"\"Used when the question provided by the user is not related to the task to perform example : what is the weather today?\"\"\"\n",
    "  message = f\"I don't know please refer to Mehdi for more information\"\n",
    "  \n",
    "  return message\n"
   ]
  },
  {
   "cell_type": "code",
   "execution_count": 67,
   "metadata": {},
   "outputs": [],
   "source": [
    "llm = ChatOpenAI(temperature=0.2, model=\"gpt-4\")\n",
    "tools = load_tools([\"llm-math\"], llm=llm)\n",
    "tools.append(current_date)\n",
    "tools.append(mehdi_cv_data)\n",
    "tools.append(meaning_search)\n",
    "tools.append(no_answer_found)\n",
    "tools.append(out_of_context)\n",
    "# tools.append(answer_found)"
   ]
  },
  {
   "cell_type": "code",
   "execution_count": 68,
   "metadata": {},
   "outputs": [],
   "source": [
    "agent = initialize_agent(\n",
    "    tools,\n",
    "    llm,\n",
    "    agent=AgentType.ZERO_SHOT_REACT_DESCRIPTION,\n",
    "    verbose=True\n",
    ")"
   ]
  },
  {
   "cell_type": "code",
   "execution_count": 69,
   "metadata": {},
   "outputs": [
    {
     "name": "stdout",
     "output_type": "stream",
     "text": [
      "\n",
      "\n",
      "\u001b[1m> Entering new AgentExecutor chain...\u001b[0m\n",
      "\u001b[32;1m\u001b[1;3mJe dois trouver des informations sur l'expérience professionnelle de Mehdi. Je vais utiliser l'outil mehdi_cv_data pour obtenir ces informations.\n",
      "Action: mehdi_cv_data\n",
      "Action Input: Quand est-ce que Mehdi à commancer à travailler chez BCG?\u001b[0m\n",
      "Observation: \u001b[38;5;200m\u001b[1;3mBonjour, je suis Mehdi HAYANI MECHKOURI, né le premier janvier 2000. De nationalité marocaine. Actuellement à Paris en France. Je suis actuellement en double diplôme arts et métiers ParisTech avec comme expertise, L’ingénierie numérique et Data science et intelligence artificielle. Je suis à la recherche d’un stage de 6 mois à partir de février 2023 dans le domaine de l’IA et la data science. Je suis une personne curieuse avec une forte soif à la connaissance. Je suis une personne qui cherche à résoudre les problèmes spécialement les problèmes liés au changement climatique, la sécurité alimentaire, et la sécurité énergétique. Mais je suis prêt à affronter n’importe quel défi. Mon secteur de prédilection est la programmation et je suis fasciné par le potentiel de l’IA.\n",
      "\n",
      "\n",
      "Formations :\n",
      "1. Arts et Métiers – ParisTech 2022-2024 : Programme Grande Ecole : Ingénierie numérique\n",
      "2. École Nationale Supérieure d’Arts et Métiers, Meknès 2021-2022 : cycle ingénieur Génie Industriel, option Intelligence Artificielle et Data Science\n",
      "3. École Nationale Supérieure d’Arts et Métiers, Meknès 2018 :2020 : Classe préparatoire intégrée\n",
      "4. Lycée Jeanne d’arc Bac Science physique mention très bien.\n",
      "\n",
      "\n",
      "Projets et stages :\n",
      "• Projet Générative AI pour l’automobile Valeo [Octobre - Novembre 2023] : Développer un chatbot intelligent basé sur LLM pour assister lors des interventions de maintenance, enrichi par une base de données vectorielle (LangChain, HuggingFace, Docker).\n",
      "• Full Stack Developer chez GE Grid Solutions (stage) [Juin - Septembre 2023] Effectuer la numérisation du processus de contrôle de qualité via la création d'un système ETL. Automatiser la pipeline de données à l'aide de RPA. Standardiser la base de données (SQL) et développer une interface utilisateur modulaire. Élaborer un tableau de bord pour l'analyse des modes de défaillance (DFMEA) à l'aide de Power BI.\n",
      "• Optimisation de la résistance des réservoirs d'hydrogène [Février - Juin 2022] Développement d'un algorithme génétique basé sur la méthode des éléments finis pour optimiser la résistance des réservoirs\n",
      "• Hackathon IA Airbus [Février 2023] Développement d'un algorithme de vision par ordinateur pour détecter les défauts sur des pièces en composite en utilisant des filtres d'image (OpenCv) et Detectron2\n",
      "• Data Scientist Chez AI-Inside [Août 2022- Octobre 2022] Développement et déploiement d'une application utilisant l'intelligence artificielle et le data-scrapping pour prédire les prix de vente de voitures et identifier les offres les plus avantageuses. (Flask, MongoDB, Tensorflow, Selenium, Pandas)\n",
      "• DataLab application streamlit pour le dataprocessing, data loading cleaning, imputation, model evaluation, PCA, and weight saving.\n",
      "• Ingénieur industriel [Août 2021- Octobre 2021] Stage en Extension de Projet de Production et Étude des Moyens de Levage : Collaboration active sur un projet d'extension de ligne de production. Réalisation d'études approfondies sur divers moyens de levage\n",
      "\n",
      "\n",
      "Bénévolat :\n",
      "Formateur Bénévole en Programmation pour Lycéens Instructeur en SQL pour les étudiants universitaires Président du club informatique arts et Métiers 2021-2022\n",
      "\u001b[0m\n",
      "Thought:\u001b[32;1m\u001b[1;3mIl semble que l'information demandée ne soit pas dans le CV de Mehdi. Il n'est pas mentionné qu'il a travaillé chez BCG.\n",
      "Action: no_answer_found\n",
      "Action Input: Quand est-ce que Mehdi à commancer à travailler chez BCG?\u001b[0m\n",
      "Observation: \u001b[33;1m\u001b[1;3m\n",
      "\n",
      "I'm sorry, I'm not familiar with that. For more information, please contact Mehdi.\u001b[0m\n",
      "\u001b[32;1m\u001b[1;3m\u001b[0m\n",
      "\n",
      "\u001b[1m> Finished chain.\u001b[0m\n"
     ]
    },
    {
     "data": {
      "text/plain": [
       "\"\\n\\nI'm sorry, I'm not familiar with that. For more information, please contact Mehdi.\""
      ]
     },
     "execution_count": 69,
     "metadata": {},
     "output_type": "execute_result"
    }
   ],
   "source": [
    "agent.run(\"Quand est-ce que Mehdi à commancer à travailler chez BCG?\")"
   ]
  },
  {
   "cell_type": "code",
   "execution_count": 70,
   "metadata": {},
   "outputs": [
    {
     "name": "stdout",
     "output_type": "stream",
     "text": [
      "\n",
      "\n",
      "\u001b[1m> Entering new AgentExecutor chain...\u001b[0m\n",
      "\u001b[32;1m\u001b[1;3mThe question is asking about the certificates that Mehdi has obtained. This information should be in Mehdi's CV data.\n",
      "Action: mehdi_cv_data\n",
      "Action Input: Quel certificats Mehdi a obtenu?\u001b[0m\n",
      "Observation: \u001b[38;5;200m\u001b[1;3m\n",
      "Certificats :\n",
      "DeepLearning.AI : Generative AI with Large Language Models [Lien : https://www.coursera.org/account/accomplishments/certificate/NSH3AYC4NUWR]\n",
      "Udacity : Data Analysis Track [Lien : https://drive.google.com/file/d/1NgOzwTS8l3QH5Xu1WLxzX50RJRjxnXgZ/view]\n",
      "\n",
      "Bonjour, je suis Mehdi HAYANI MECHKOURI, né le premier janvier 2000. De nationalité marocaine. Actuellement à Paris en France. Je suis actuellement en double diplôme arts et métiers ParisTech avec comme expertise, L’ingénierie numérique et Data science et intelligence artificielle. Je suis à la recherche d’un stage de 6 mois à partir de février 2023 dans le domaine de l’IA et la data science. Je suis une personne curieuse avec une forte soif à la connaissance. Je suis une personne qui cherche à résoudre les problèmes spécialement les problèmes liés au changement climatique, la sécurité alimentaire, et la sécurité énergétique. Mais je suis prêt à affronter n’importe quel défi. Mon secteur de prédilection est la programmation et je suis fasciné par le potentiel de l’IA.\n",
      "\n",
      "\n",
      "Formations :\n",
      "1. Arts et Métiers – ParisTech 2022-2024 : Programme Grande Ecole : Ingénierie numérique\n",
      "2. École Nationale Supérieure d’Arts et Métiers, Meknès 2021-2022 : cycle ingénieur Génie Industriel, option Intelligence Artificielle et Data Science\n",
      "3. École Nationale Supérieure d’Arts et Métiers, Meknès 2018 :2020 : Classe préparatoire intégrée\n",
      "4. Lycée Jeanne d’arc Bac Science physique mention très bien.\n",
      "\n",
      "\n",
      "Contacts :\n",
      "Téléphone +33 7 52 07 57 72, email : mehdi.hayani_mechkouri@ensam.eu, linkedin:” https://www.linkedin.com/in/mehdi-hayani-mechkouri-9ba3161bb/”\n",
      "\u001b[0m\n",
      "Thought:\u001b[32;1m\u001b[1;3mI now know the final answer.\n",
      "Final Answer: Mehdi a obtenu les certificats suivants : \n",
      "1. DeepLearning.AI : Generative AI with Large Language Models. Vous pouvez voir le certificat ici : https://www.coursera.org/account/accomplishments/certificate/NSH3AYC4NUWR\n",
      "2. Udacity : Data Analysis Track. Vous pouvez voir le certificat ici : https://drive.google.com/file/d/1NgOzwTS8l3QH5Xu1WLxzX50RJRjxnXgZ/view\u001b[0m\n",
      "\n",
      "\u001b[1m> Finished chain.\u001b[0m\n"
     ]
    },
    {
     "data": {
      "text/plain": [
       "'Mehdi a obtenu les certificats suivants : \\n1. DeepLearning.AI : Generative AI with Large Language Models. Vous pouvez voir le certificat ici : https://www.coursera.org/account/accomplishments/certificate/NSH3AYC4NUWR\\n2. Udacity : Data Analysis Track. Vous pouvez voir le certificat ici : https://drive.google.com/file/d/1NgOzwTS8l3QH5Xu1WLxzX50RJRjxnXgZ/view'"
      ]
     },
     "execution_count": 70,
     "metadata": {},
     "output_type": "execute_result"
    }
   ],
   "source": [
    "agent.run(\"Quel certificats Mehdi a obtenu?\")"
   ]
  },
  {
   "cell_type": "code",
   "execution_count": 71,
   "metadata": {},
   "outputs": [
    {
     "name": "stdout",
     "output_type": "stream",
     "text": [
      "\n",
      "\n",
      "\u001b[1m> Entering new AgentExecutor chain...\u001b[0m\n",
      "\u001b[32;1m\u001b[1;3mJe dois trouver des informations sur l'expérience professionnelle de Mehdi. Je vais utiliser la fonction mehdi_cv_data pour obtenir ces informations.\n",
      "Action: mehdi_cv_data\n",
      "Action Input: Où Mehdi a-t-il travaillé en tant que consultant?\u001b[0m\n",
      "Observation: \u001b[38;5;200m\u001b[1;3mBonjour, je suis Mehdi HAYANI MECHKOURI, né le premier janvier 2000. De nationalité marocaine. Actuellement à Paris en France. Je suis actuellement en double diplôme arts et métiers ParisTech avec comme expertise, L’ingénierie numérique et Data science et intelligence artificielle. Je suis à la recherche d’un stage de 6 mois à partir de février 2023 dans le domaine de l’IA et la data science. Je suis une personne curieuse avec une forte soif à la connaissance. Je suis une personne qui cherche à résoudre les problèmes spécialement les problèmes liés au changement climatique, la sécurité alimentaire, et la sécurité énergétique. Mais je suis prêt à affronter n’importe quel défi. Mon secteur de prédilection est la programmation et je suis fasciné par le potentiel de l’IA.\n",
      "\n",
      "\n",
      "Contacts :\n",
      "Téléphone +33 7 52 07 57 72, email : mehdi.hayani_mechkouri@ensam.eu, linkedin:” https://www.linkedin.com/in/mehdi-hayani-mechkouri-9ba3161bb/”\n",
      "\n",
      "\n",
      "Formations :\n",
      "1. Arts et Métiers – ParisTech 2022-2024 : Programme Grande Ecole : Ingénierie numérique\n",
      "2. École Nationale Supérieure d’Arts et Métiers, Meknès 2021-2022 : cycle ingénieur Génie Industriel, option Intelligence Artificielle et Data Science\n",
      "3. École Nationale Supérieure d’Arts et Métiers, Meknès 2018 :2020 : Classe préparatoire intégrée\n",
      "4. Lycée Jeanne d’arc Bac Science physique mention très bien.\n",
      "\n",
      "\n",
      "Bénévolat :\n",
      "Formateur Bénévole en Programmation pour Lycéens Instructeur en SQL pour les étudiants universitaires Président du club informatique arts et Métiers 2021-2022\n",
      "\u001b[0m\n",
      "Thought:\u001b[32;1m\u001b[1;3mLa réponse ne contient pas d'informations sur l'entreprise où Mehdi a travaillé en tant que consultant. Je vais utiliser la fonction no_answer_found.\n",
      "Action: no_answer_found\n",
      "Action Input: Où Mehdi a-t-il travaillé en tant que consultant?\u001b[0m\n",
      "Observation: \u001b[33;1m\u001b[1;3m\n",
      "\n",
      "I'm sorry, I don't have the answer to that. Please contact Mehdi for more information.\u001b[0m\n",
      "\u001b[32;1m\u001b[1;3m\u001b[0m\n",
      "\n",
      "\u001b[1m> Finished chain.\u001b[0m\n"
     ]
    },
    {
     "data": {
      "text/plain": [
       "\"\\n\\nI'm sorry, I don't have the answer to that. Please contact Mehdi for more information.\""
      ]
     },
     "execution_count": 71,
     "metadata": {},
     "output_type": "execute_result"
    }
   ],
   "source": [
    "agent.run(\"Quel est le nom de l'entreprise où Mehdi a travaillé en tant que consultant?\")"
   ]
  },
  {
   "cell_type": "code",
   "execution_count": 72,
   "metadata": {},
   "outputs": [
    {
     "name": "stdout",
     "output_type": "stream",
     "text": [
      "\n",
      "\n",
      "\u001b[1m> Entering new AgentExecutor chain...\u001b[0m\n",
      "\u001b[32;1m\u001b[1;3mThe question is asking for information from Mehdi's CV.\n",
      "Action: mehdi_cv_data\n",
      "Action Input: Quel était le poste de Mehdi chez GE grid solutions?\u001b[0m\n",
      "Observation: \u001b[38;5;200m\u001b[1;3mBonjour, je suis Mehdi HAYANI MECHKOURI, né le premier janvier 2000. De nationalité marocaine. Actuellement à Paris en France. Je suis actuellement en double diplôme arts et métiers ParisTech avec comme expertise, L’ingénierie numérique et Data science et intelligence artificielle. Je suis à la recherche d’un stage de 6 mois à partir de février 2023 dans le domaine de l’IA et la data science. Je suis une personne curieuse avec une forte soif à la connaissance. Je suis une personne qui cherche à résoudre les problèmes spécialement les problèmes liés au changement climatique, la sécurité alimentaire, et la sécurité énergétique. Mais je suis prêt à affronter n’importe quel défi. Mon secteur de prédilection est la programmation et je suis fasciné par le potentiel de l’IA.\n",
      "\n",
      "\n",
      "Contacts :\n",
      "Téléphone +33 7 52 07 57 72, email : mehdi.hayani_mechkouri@ensam.eu, linkedin:” https://www.linkedin.com/in/mehdi-hayani-mechkouri-9ba3161bb/”\n",
      "\n",
      "\n",
      "Formations :\n",
      "1. Arts et Métiers – ParisTech 2022-2024 : Programme Grande Ecole : Ingénierie numérique\n",
      "2. École Nationale Supérieure d’Arts et Métiers, Meknès 2021-2022 : cycle ingénieur Génie Industriel, option Intelligence Artificielle et Data Science\n",
      "3. École Nationale Supérieure d’Arts et Métiers, Meknès 2018 :2020 : Classe préparatoire intégrée\n",
      "4. Lycée Jeanne d’arc Bac Science physique mention très bien.\n",
      "\n",
      "\n",
      "Projets et stages :\n",
      "• Projet Générative AI pour l’automobile Valeo [Octobre - Novembre 2023] : Développer un chatbot intelligent basé sur LLM pour assister lors des interventions de maintenance, enrichi par une base de données vectorielle (LangChain, HuggingFace, Docker).\n",
      "• Full Stack Developer chez GE Grid Solutions (stage) [Juin - Septembre 2023] Effectuer la numérisation du processus de contrôle de qualité via la création d'un système ETL. Automatiser la pipeline de données à l'aide de RPA. Standardiser la base de données (SQL) et développer une interface utilisateur modulaire. Élaborer un tableau de bord pour l'analyse des modes de défaillance (DFMEA) à l'aide de Power BI.\n",
      "• Optimisation de la résistance des réservoirs d'hydrogène [Février - Juin 2022] Développement d'un algorithme génétique basé sur la méthode des éléments finis pour optimiser la résistance des réservoirs\n",
      "• Hackathon IA Airbus [Février 2023] Développement d'un algorithme de vision par ordinateur pour détecter les défauts sur des pièces en composite en utilisant des filtres d'image (OpenCv) et Detectron2\n",
      "• Data Scientist Chez AI-Inside [Août 2022- Octobre 2022] Développement et déploiement d'une application utilisant l'intelligence artificielle et le data-scrapping pour prédire les prix de vente de voitures et identifier les offres les plus avantageuses. (Flask, MongoDB, Tensorflow, Selenium, Pandas)\n",
      "• DataLab application streamlit pour le dataprocessing, data loading cleaning, imputation, model evaluation, PCA, and weight saving.\n",
      "• Ingénieur industriel [Août 2021- Octobre 2021] Stage en Extension de Projet de Production et Étude des Moyens de Levage : Collaboration active sur un projet d'extension de ligne de production. Réalisation d'études approfondies sur divers moyens de levage\n",
      "\u001b[0m\n",
      "Thought:\u001b[32;1m\u001b[1;3mThe information about Mehdi's position at GE Grid Solutions is in the observation.\n",
      "Final Answer: Mehdi était un Full Stack Developer chez GE Grid Solutions.\u001b[0m\n",
      "\n",
      "\u001b[1m> Finished chain.\u001b[0m\n"
     ]
    },
    {
     "data": {
      "text/plain": [
       "'Mehdi était un Full Stack Developer chez GE Grid Solutions.'"
      ]
     },
     "execution_count": 72,
     "metadata": {},
     "output_type": "execute_result"
    }
   ],
   "source": [
    "agent.run(\"Quel était le poste de Mehdi chez GE grid solutions?\")"
   ]
  },
  {
   "cell_type": "code",
   "execution_count": 73,
   "metadata": {},
   "outputs": [
    {
     "name": "stdout",
     "output_type": "stream",
     "text": [
      "\n",
      "\n",
      "\u001b[1m> Entering new AgentExecutor chain...\u001b[0m\n",
      "\u001b[32;1m\u001b[1;3mThe question is asking for the city where Mehdi lives and when he started his training in that city. This information can be found in Mehdi's CV.\n",
      "Action: mehdi_cv_data\n",
      "Action Input: \"Where does Mehdi live?\" and \"When did Mehdi start his training in his city of residence?\"\u001b[0m\n",
      "Observation: \u001b[38;5;200m\u001b[1;3mBonjour, je suis Mehdi HAYANI MECHKOURI, né le premier janvier 2000. De nationalité marocaine. Actuellement à Paris en France. Je suis actuellement en double diplôme arts et métiers ParisTech avec comme expertise, L’ingénierie numérique et Data science et intelligence artificielle. Je suis à la recherche d’un stage de 6 mois à partir de février 2023 dans le domaine de l’IA et la data science. Je suis une personne curieuse avec une forte soif à la connaissance. Je suis une personne qui cherche à résoudre les problèmes spécialement les problèmes liés au changement climatique, la sécurité alimentaire, et la sécurité énergétique. Mais je suis prêt à affronter n’importe quel défi. Mon secteur de prédilection est la programmation et je suis fasciné par le potentiel de l’IA.\n",
      "\n",
      "\n",
      "Contacts :\n",
      "Téléphone +33 7 52 07 57 72, email : mehdi.hayani_mechkouri@ensam.eu, linkedin:” https://www.linkedin.com/in/mehdi-hayani-mechkouri-9ba3161bb/”\n",
      "\n",
      "\n",
      "Formations :\n",
      "1. Arts et Métiers – ParisTech 2022-2024 : Programme Grande Ecole : Ingénierie numérique\n",
      "2. École Nationale Supérieure d’Arts et Métiers, Meknès 2021-2022 : cycle ingénieur Génie Industriel, option Intelligence Artificielle et Data Science\n",
      "3. École Nationale Supérieure d’Arts et Métiers, Meknès 2018 :2020 : Classe préparatoire intégrée\n",
      "4. Lycée Jeanne d’arc Bac Science physique mention très bien.\n",
      "\n",
      "\n",
      "Activités et loisirs :\n",
      "J'aime la programmation, la programmation compétitive et la résolution de problèmes. Natation\u001b[0m\n",
      "Thought:\u001b[32;1m\u001b[1;3mFrom the data, it is clear that Mehdi resides in Paris, France. However, the exact date or year when he started his training in Paris is not explicitly mentioned. The closest information related to this is that he started his program at Arts et Métiers – ParisTech in 2022.\n",
      "Action: no_answer_found\n",
      "Action Input: \"When did Mehdi start his training in his city of residence?\"\u001b[0m\n",
      "Observation: \u001b[33;1m\u001b[1;3m\n",
      "\n",
      "I'm sorry, I'm not familiar with that. Please ask Mehdi for more information.\u001b[0m\n",
      "\u001b[32;1m\u001b[1;3m\u001b[0m\n",
      "\n",
      "\u001b[1m> Finished chain.\u001b[0m\n"
     ]
    },
    {
     "data": {
      "text/plain": [
       "\"\\n\\nI'm sorry, I'm not familiar with that. Please ask Mehdi for more information.\""
      ]
     },
     "execution_count": 73,
     "metadata": {},
     "output_type": "execute_result"
    }
   ],
   "source": [
    "agent.run(\"Dans quel ville réside Mehdi? et quand est-ce qu'il a commancé ça formation dans cette ville?\")"
   ]
  },
  {
   "cell_type": "code",
   "execution_count": 74,
   "metadata": {},
   "outputs": [
    {
     "name": "stdout",
     "output_type": "stream",
     "text": [
      "\n",
      "\n",
      "\u001b[1m> Entering new AgentExecutor chain...\u001b[0m\n",
      "\u001b[32;1m\u001b[1;3mJe dois chercher cette information dans le CV de Mehdi.\n",
      "Action: mehdi_cv_data\n",
      "Action Input: Combien de langues parle Mehdi ?\u001b[0m\n",
      "Observation: \u001b[38;5;200m\u001b[1;3mBonjour, je suis Mehdi HAYANI MECHKOURI, né le premier janvier 2000. De nationalité marocaine. Actuellement à Paris en France. Je suis actuellement en double diplôme arts et métiers ParisTech avec comme expertise, L’ingénierie numérique et Data science et intelligence artificielle. Je suis à la recherche d’un stage de 6 mois à partir de février 2023 dans le domaine de l’IA et la data science. Je suis une personne curieuse avec une forte soif à la connaissance. Je suis une personne qui cherche à résoudre les problèmes spécialement les problèmes liés au changement climatique, la sécurité alimentaire, et la sécurité énergétique. Mais je suis prêt à affronter n’importe quel défi. Mon secteur de prédilection est la programmation et je suis fasciné par le potentiel de l’IA.\n",
      "\n",
      "\n",
      "Contacts :\n",
      "Téléphone +33 7 52 07 57 72, email : mehdi.hayani_mechkouri@ensam.eu, linkedin:” https://www.linkedin.com/in/mehdi-hayani-mechkouri-9ba3161bb/”\n",
      "\n",
      "\n",
      "Langues :\n",
      "Français TCF C2, Anglais TOIEC C1*, Arabe (langue maternelle), Allemand A1\n",
      "\n",
      "\n",
      "Formations :\n",
      "1. Arts et Métiers – ParisTech 2022-2024 : Programme Grande Ecole : Ingénierie numérique\n",
      "2. École Nationale Supérieure d’Arts et Métiers, Meknès 2021-2022 : cycle ingénieur Génie Industriel, option Intelligence Artificielle et Data Science\n",
      "3. École Nationale Supérieure d’Arts et Métiers, Meknès 2018 :2020 : Classe préparatoire intégrée\n",
      "4. Lycée Jeanne d’arc Bac Science physique mention très bien.\n",
      "\u001b[0m\n",
      "Thought:\u001b[32;1m\u001b[1;3mJ'ai maintenant l'information sur le nombre de langues que Mehdi parle.\n",
      "Final Answer: Mehdi parle quatre langues : le français, l'anglais, l'arabe et l'allemand.\u001b[0m\n",
      "\n",
      "\u001b[1m> Finished chain.\u001b[0m\n"
     ]
    },
    {
     "data": {
      "text/plain": [
       "\"Mehdi parle quatre langues : le français, l'anglais, l'arabe et l'allemand.\""
      ]
     },
     "execution_count": 74,
     "metadata": {},
     "output_type": "execute_result"
    }
   ],
   "source": [
    "agent.run(\"Combien de langues parle Mehdi ?\")\n"
   ]
  },
  {
   "cell_type": "code",
   "execution_count": 75,
   "metadata": {},
   "outputs": [
    {
     "name": "stdout",
     "output_type": "stream",
     "text": [
      "\n",
      "\n",
      "\u001b[1m> Entering new AgentExecutor chain...\u001b[0m\n",
      "\u001b[32;1m\u001b[1;3mThe question is asking about Mehdi's experience in data science. I should check Mehdi's CV data.\n",
      "Action: mehdi_cv_data\n",
      "Action Input: Does Mehdi have experience in data science?\u001b[0m\n",
      "Observation: \u001b[38;5;200m\u001b[1;3mBonjour, je suis Mehdi HAYANI MECHKOURI, né le premier janvier 2000. De nationalité marocaine. Actuellement à Paris en France. Je suis actuellement en double diplôme arts et métiers ParisTech avec comme expertise, L’ingénierie numérique et Data science et intelligence artificielle. Je suis à la recherche d’un stage de 6 mois à partir de février 2023 dans le domaine de l’IA et la data science. Je suis une personne curieuse avec une forte soif à la connaissance. Je suis une personne qui cherche à résoudre les problèmes spécialement les problèmes liés au changement climatique, la sécurité alimentaire, et la sécurité énergétique. Mais je suis prêt à affronter n’importe quel défi. Mon secteur de prédilection est la programmation et je suis fasciné par le potentiel de l’IA.\n",
      "\n",
      "\n",
      "Contacts :\n",
      "Téléphone +33 7 52 07 57 72, email : mehdi.hayani_mechkouri@ensam.eu, linkedin:” https://www.linkedin.com/in/mehdi-hayani-mechkouri-9ba3161bb/”\n",
      "\n",
      "\n",
      "Formations :\n",
      "1. Arts et Métiers – ParisTech 2022-2024 : Programme Grande Ecole : Ingénierie numérique\n",
      "2. École Nationale Supérieure d’Arts et Métiers, Meknès 2021-2022 : cycle ingénieur Génie Industriel, option Intelligence Artificielle et Data Science\n",
      "3. École Nationale Supérieure d’Arts et Métiers, Meknès 2018 :2020 : Classe préparatoire intégrée\n",
      "4. Lycée Jeanne d’arc Bac Science physique mention très bien.\n",
      "\n",
      "\n",
      "Certificats :\n",
      "DeepLearning.AI : Generative AI with Large Language Models [Lien : https://www.coursera.org/account/accomplishments/certificate/NSH3AYC4NUWR]\n",
      "Udacity : Data Analysis Track [Lien : https://drive.google.com/file/d/1NgOzwTS8l3QH5Xu1WLxzX50RJRjxnXgZ/view]\n",
      "\u001b[0m\n",
      "Thought:\u001b[32;1m\u001b[1;3mFrom the CV data, it's clear that Mehdi has experience in data science. He is currently pursuing a double degree with expertise in Digital Engineering and Data Science and Artificial Intelligence. He is also looking for a 6-month internship in the field of AI and data science. He has also completed a Data Analysis Track from Udacity.\n",
      "Final Answer: Oui, Mehdi a une expérience en data science. Il poursuit actuellement un double diplôme avec une expertise en ingénierie numérique et en science des données et intelligence artificielle. Il est également à la recherche d'un stage de 6 mois dans le domaine de l'IA et de la science des données. Il a également suivi une formation en analyse de données chez Udacity.\u001b[0m\n",
      "\n",
      "\u001b[1m> Finished chain.\u001b[0m\n"
     ]
    },
    {
     "data": {
      "text/plain": [
       "\"Oui, Mehdi a une expérience en data science. Il poursuit actuellement un double diplôme avec une expertise en ingénierie numérique et en science des données et intelligence artificielle. Il est également à la recherche d'un stage de 6 mois dans le domaine de l'IA et de la science des données. Il a également suivi une formation en analyse de données chez Udacity.\""
      ]
     },
     "execution_count": 75,
     "metadata": {},
     "output_type": "execute_result"
    }
   ],
   "source": [
    "agent.run(\"es-ce que Mehdi a une experience en data science?\")"
   ]
  },
  {
   "cell_type": "markdown",
   "metadata": {},
   "source": [
    "## Conclusion"
   ]
  },
  {
   "cell_type": "markdown",
   "metadata": {},
   "source": [
    "The agent gives good answers overall but a change in the data and adding meta deta can improve the retrived data"
   ]
  },
  {
   "cell_type": "code",
   "execution_count": null,
   "metadata": {},
   "outputs": [],
   "source": []
  }
 ],
 "metadata": {
  "kernelspec": {
   "display_name": "base",
   "language": "python",
   "name": "python3"
  },
  "language_info": {
   "codemirror_mode": {
    "name": "ipython",
    "version": 3
   },
   "file_extension": ".py",
   "mimetype": "text/x-python",
   "name": "python",
   "nbconvert_exporter": "python",
   "pygments_lexer": "ipython3",
   "version": "3.9.13"
  }
 },
 "nbformat": 4,
 "nbformat_minor": 2
}
