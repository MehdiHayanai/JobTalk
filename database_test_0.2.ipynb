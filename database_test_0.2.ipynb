{
 "cells": [
  {
   "cell_type": "markdown",
   "metadata": {},
   "source": [
    "# Database test"
   ]
  },
  {
   "cell_type": "code",
   "execution_count": 1,
   "metadata": {},
   "outputs": [
    {
     "data": {
      "text/plain": [
       "True"
      ]
     },
     "execution_count": 1,
     "metadata": {},
     "output_type": "execute_result"
    }
   ],
   "source": [
    "from langchain.embeddings import OpenAIEmbeddings\n",
    "from langchain.vectorstores import MongoDBAtlasVectorSearch\n",
    "from pymongo.mongo_client import MongoClient\n",
    "from pymongo.server_api import ServerApi\n",
    "from langchain.prompts import PromptTemplate\n",
    "from dotenv import load_dotenv\n",
    "import os\n",
    "\n",
    "load_dotenv()"
   ]
  },
  {
   "cell_type": "code",
   "execution_count": 2,
   "metadata": {},
   "outputs": [],
   "source": [
    "DB_NAME = \"jobFinder\"\n",
    "COLLECTION_NAME = \"cv_mehdi\"\n",
    "ATLAS_VECTOR_SEARCH_INDEX_NAME = \"vector_search_index\"\n",
    "MONGODB_ATLAS_CLUSTER_URI = os.getenv(\"MONGO_URI\")"
   ]
  },
  {
   "cell_type": "code",
   "execution_count": 3,
   "metadata": {},
   "outputs": [],
   "source": [
    "mongo_client = MongoClient(MONGODB_ATLAS_CLUSTER_URI, server_api=ServerApi('1'))\n",
    "collection = mongo_client[DB_NAME][COLLECTION_NAME]"
   ]
  },
  {
   "cell_type": "code",
   "execution_count": 4,
   "metadata": {},
   "outputs": [],
   "source": [
    "embeddings = OpenAIEmbeddings()#disallowed_special=())\n",
    "vector_search = MongoDBAtlasVectorSearch(collection, embedding=embeddings, index_name=ATLAS_VECTOR_SEARCH_INDEX_NAME, embedding_key=\"embedding\")"
   ]
  },
  {
   "cell_type": "code",
   "execution_count": 5,
   "metadata": {},
   "outputs": [
    {
     "name": "stdout",
     "output_type": "stream",
     "text": [
      "Pinged your deployment. You successfully connected to MongoDB!\n"
     ]
    }
   ],
   "source": [
    "try:\n",
    "    mongo_client.admin.command('ping')\n",
    "    print(\"Pinged your deployment. You successfully connected to MongoDB!\")\n",
    "except Exception as e:\n",
    "    print(e)"
   ]
  },
  {
   "cell_type": "code",
   "execution_count": 6,
   "metadata": {},
   "outputs": [
    {
     "name": "stdout",
     "output_type": "stream",
     "text": [
      "score : 0.8940367102622986   \n",
      "- French TCF C2\n",
      "- English TOIEC C1*\n",
      "- Arabic (native language)\n",
      "- German A1\n",
      "\n",
      "-----------------------------------------------------\n",
      "score : 0.8802566528320312   \n",
      "Programming Languages:\n",
      "- Python: Proficient for 6 years, used in data analysis, machine learning, and web development.\n",
      "- C++ and C: Proficient for 6 years, applied in software development and algorithm design.\n",
      "- Matlab: Experience of 4 years, primarily used for scientific computing, numerical analysis, and algorithm prototyping.\n",
      "- JavaScript: Proficiency of 3 years, employed in web development for frontend interactivity and functionality.\n",
      "- SQL for database management (SQLite, MySQL, PostgreSQL)\n",
      "Frameworks:\n",
      "- Frontend: Proficient in React and Svelte, used for developing dynamic and responsive user interfaces.\n",
      "- Backend: Proficient in Flask, Streamlit, and FastAPI, employed for creating backend services, APIs, and web applications.\n",
      "- Machine Learning: Competent in TensorFlow and PyTorch, utilized for implementing and deploying machine learning models in various projects.\n",
      "- Version Control: Proficient in Git for managing and tracking changes in codebase collaboration.\n",
      "- Office Suite: Proficient in Microsoft Office tools such as PowerPoint, Word, and Excel for documentation, presentation, and data analysis.\n",
      "\n",
      "-----------------------------------------------------\n",
      "score : 0.8799953460693359   \n",
      "1. Arts et Métiers – ParisTech: Grande École Program: Digital Engineering / Equivalent engineering degree BAC +5, Paris France campus, started in 2022 - expected completion in 2024\n",
      "2. École Nationale Supérieure d'Arts et Métiers, Meknes 2020-2022: Industrial Engineering cycle, Artificial Intelligence and Data Science option. Equivalent engineering degree BAC +5, Meknes Morocco campus. Started in 2020 - expected completion in 2024\n",
      "3. École Nationale Supérieure d'Arts et Métiers, Meknes 2018-2020: Integrated preparatory class, Equivalent to Bac +2. Meknes Morocco campus. Started in 2018 - finished in 2020\n",
      "4. Lycée Jeanne d'Arc Bac Science, with honors in Physics. Casablanca Morocco. Obtained in 2018\n",
      "\n",
      "-----------------------------------------------------\n"
     ]
    }
   ],
   "source": [
    "query = \"certifications\"\n",
    "\n",
    "docs = vector_search.similarity_search_with_score(query, k=3)\n",
    "for doc in docs:\n",
    "    print(\"score :\", doc[1], \" \",doc[0].page_content)\n",
    "    print(\"-----------------------------------------------------\")"
   ]
  },
  {
   "cell_type": "code",
   "execution_count": 7,
   "metadata": {},
   "outputs": [],
   "source": [
    "prompt_template =\"\"\"\n",
    "    You are a smart agent that can answer questions about CVs.\n",
    "    if the question is not related to CVs, you should answer \"I don't know please refer to Mehdi for more information\".\n",
    "    if the question is related to CVs, you should answer the question.\n",
    "    If the question was not clear enough, you should ask for more information.\n",
    "    if the question was in French, you should answer in French.\n",
    "    use the following information to answer the question:\n",
    "    {context}\n",
    "    question: {question}\n",
    "\"\"\"\n",
    "\n",
    "prompt = PromptTemplate(template=prompt_template, input_variables=[\"context\", \"question\"])"
   ]
  },
  {
   "cell_type": "code",
   "execution_count": 8,
   "metadata": {},
   "outputs": [
    {
     "name": "stdout",
     "output_type": "stream",
     "text": [
      "\n",
      "I don't know please refer to Mehdi for more information.\n"
     ]
    }
   ],
   "source": [
    "from langchain.chains import RetrievalQA\n",
    "from langchain.llms import OpenAI\n",
    "\n",
    "qa_retriever = vector_search.as_retriever(\n",
    "    search_type=\"similarity\",\n",
    "    search_kwargs={\"k\": 5},\n",
    "    return_vector=False,\n",
    ")\n",
    "llm = OpenAI(temperature=0.3, max_tokens=200, top_p=0.9)\n",
    "\n",
    "qa = RetrievalQA.from_chain_type(\n",
    "    llm=llm,\n",
    "    chain_type=\"stuff\",\n",
    "    retriever=qa_retriever,\n",
    "    return_source_documents=True,\n",
    "    chain_type_kwargs={\"prompt\": prompt},\n",
    ")\n",
    "\n",
    "docs = qa({\"query\": \"gpt-4 compute requirements\"})\n",
    "\n",
    "print(docs[\"result\"])"
   ]
  },
  {
   "cell_type": "code",
   "execution_count": 10,
   "metadata": {},
   "outputs": [
    {
     "name": "stdout",
     "output_type": "stream",
     "text": [
      "Answer: Mehdi is 21 years old, born on January 1st, 2000.\n"
     ]
    }
   ],
   "source": [
    "docs = qa({\"query\": \"how old is Mehdi?\"})\n",
    "print(docs[\"result\"])"
   ]
  },
  {
   "cell_type": "markdown",
   "metadata": {},
   "source": [
    "# Agent section"
   ]
  },
  {
   "cell_type": "code",
   "execution_count": 11,
   "metadata": {},
   "outputs": [],
   "source": [
    "from langchain.agents import AgentType, initialize_agent\n",
    "from langchain.llms import OpenAI\n",
    "from langchain.chat_models import ChatOpenAI\n",
    "from langchain.agents import AgentType, initialize_agent, load_tools\n",
    "from langchain.tools import tool\n",
    "from datetime import datetime"
   ]
  },
  {
   "cell_type": "code",
   "execution_count": 16,
   "metadata": {},
   "outputs": [],
   "source": [
    "@tool(\"current_date\", return_direct=False)\n",
    "def current_date(input:str) -> str:\n",
    "  \"\"\"Used to know the current date\"\"\"\n",
    "  return str(datetime.now())\n",
    "\n",
    "@tool(\"mehdi_cv_data\", return_direct=False)\n",
    "def mehdi_cv_data(input:str) -> str:\n",
    "  \"\"\"Used as bank of data for Mehdi CV the input should be a question related to the task to perform\"\"\"\n",
    "  context_helper = \"\\n\".join([ x[0].page_content for x in vector_search.similarity_search_with_score(input, k=5)])\n",
    "  return context_helper\n",
    "\n",
    "@tool(\"meaning_search\", return_direct=False)\n",
    "def meaning_search(input:str) -> str:\n",
    "  \"\"\"Used when you look for the meaning of a word\"\"\"\n",
    "  llm = OpenAI(temperature=0.3, max_tokens=50, top_p=0.9)\n",
    "  return llm(f\"What is {input}?\")\n",
    "\n",
    "@tool(\"no_answer_found\", return_direct=True)\n",
    "def no_answer_found(input:str) -> str:\n",
    "  \"\"\"Used when the question provided by the user was not found in the data bank example : when did Mehdi started working at Google? => no answer found\"\"\"\n",
    "  llm = OpenAI(temperature=0.8, max_tokens=50, top_p=0.9)\n",
    "  return str(llm(f\"answer with something that has the following meaning: I don't know or the input provided does not match any of my database information please refer to Mehdi for more information\"))\n",
    "  \n",
    "\n",
    "@tool(\"out_of_context\", return_direct=True)\n",
    "def out_of_context(input:str) -> str:\n",
    "  \"\"\"Used when the question provided by the user is not related to the task to perform example : what is the weather today?\"\"\"\n",
    "  message = f\"I don't know please refer to Mehdi for more information\"\n",
    "  \n",
    "  return message\n"
   ]
  },
  {
   "cell_type": "code",
   "execution_count": 17,
   "metadata": {},
   "outputs": [],
   "source": [
    "llm = ChatOpenAI(temperature=0.5, model='gpt-4')\n",
    "tools = load_tools([\"llm-math\"], llm=llm)\n",
    "tools.append(current_date)\n",
    "tools.append(mehdi_cv_data)\n",
    "tools.append(meaning_search)\n",
    "tools.append(no_answer_found)\n",
    "tools.append(out_of_context)"
   ]
  },
  {
   "cell_type": "code",
   "execution_count": 18,
   "metadata": {},
   "outputs": [],
   "source": [
    "agent = initialize_agent(\n",
    "    tools,\n",
    "    llm,\n",
    "    agent=AgentType.ZERO_SHOT_REACT_DESCRIPTION,\n",
    "    verbose=True\n",
    ")"
   ]
  },
  {
   "cell_type": "code",
   "execution_count": 19,
   "metadata": {},
   "outputs": [
    {
     "name": "stdout",
     "output_type": "stream",
     "text": [
      "\n",
      "\n",
      "\u001b[1m> Entering new AgentExecutor chain...\u001b[0m\n",
      "\u001b[32;1m\u001b[1;3mI need to find Mehdi's LinkedIn URL from his CV data.\n",
      "Action: mehdi_cv_data\n",
      "Action Input: What is Mehdi's LinkedIn URL?\u001b[0m\n",
      "Observation: \u001b[38;5;200m\u001b[1;3m - Phone: +33 7 52 07 57 72 - Email: mehdi.hayani_mechkouri@ensam.eu - LinkedIn: https://www.linkedin.com/in/mehdi-hayani-mechkouri-9ba3161bb/\n",
      "\n",
      "\n",
      "Hello, I am Mehdi HAYANI MECHKOURI, born on January 1st, 2000. I am of Moroccan nationality. Currently in Paris, France. I am currently pursuing a dual degree in Arts et Métiers ParisTech specializing in Digital Engineering, Data Science, and Artificial Intelligence. I am looking for a 6-month internship starting from February 2023 in the field of AI and data science. I am a curious person with a strong thirst for knowledge. I am someone who seeks to solve problems, especially those related to climate change, food security, and energy security. But I am ready to face any challenge. My preferred sector is programming, and I am fascinated by the potential of AI.\n",
      "\n",
      "\n",
      "- 2nd prize at the UPF CODING CHALLENGE\n",
      "- 3rd prize at the Challenge AM 2023\n",
      "- 3rd prize Robotic brain contest [Link: 'https://www.linkedin.com/feed/update/urn:li:activity:7135598275880996865/']\n",
      "\n",
      "\n",
      "1. Arts et Métiers – ParisTech: Grande École Program: Digital Engineering / Equivalent engineering degree BAC +5, Paris France campus, started in 2022 - expected completion in 2024\n",
      "2. École Nationale Supérieure d'Arts et Métiers, Meknes 2020-2022: Industrial Engineering cycle, Artificial Intelligence and Data Science option. Equivalent engineering degree BAC +5, Meknes Morocco campus. Started in 2020 - expected completion in 2024\n",
      "3. École Nationale Supérieure d'Arts et Métiers, Meknes 2018-2020: Integrated preparatory class, Equivalent to Bac +2. Meknes Morocco campus. Started in 2018 - finished in 2020\n",
      "4. Lycée Jeanne d'Arc Bac Science, with honors in Physics. Casablanca Morocco. Obtained in 2018\n",
      "\n",
      "\n",
      "1. Full Stack Developer at GE Grid Solutions - Type: `Internship` between [June - September 2023], Role: [Intern], Title: [Web Developer]. Tasks and Achievements: Digitized the quality control process by creating an ETL system. Automated the data pipeline using RPA. Standardized the database (SQL) and developed a modular user interface. Created a dashboard for Failure Mode and Effects Analysis (DFMEA) using Power BI.\n",
      "2. Data Scientist at AI-Inside - Type: `Internship` between [August 2022 - October 2022], Role: [Intern], Title: [Data Scientist]. Tasks and Achievements: Developed and deployed an application using AI and data scraping to predict car sales prices and identify the most advantageous offers (Flask, MongoDB, TensorFlow, Selenium, Pandas).\n",
      "3. Industrial Engineer at Groupe Renault - Type: `Internship` between [August 2021 - October 2021], Role: [Intern], Title: [Industrial Engineer]. Tasks and Achievements: Actively collaborated on a production line extension project. Conducted in-depth studies on various lifting means.\n",
      "\u001b[0m\n",
      "Thought:\u001b[32;1m\u001b[1;3mI now know the final answer.\n",
      "Final Answer: Mehdi's LinkedIn URL is https://www.linkedin.com/in/mehdi-hayani-mechkouri-9ba3161bb/.\u001b[0m\n",
      "\n",
      "\u001b[1m> Finished chain.\u001b[0m\n"
     ]
    },
    {
     "data": {
      "text/plain": [
       "\"Mehdi's LinkedIn URL is https://www.linkedin.com/in/mehdi-hayani-mechkouri-9ba3161bb/.\""
      ]
     },
     "execution_count": 19,
     "metadata": {},
     "output_type": "execute_result"
    }
   ],
   "source": [
    "agent.run(\"Give me his linkedin url?\")"
   ]
  },
  {
   "cell_type": "code",
   "execution_count": 20,
   "metadata": {},
   "outputs": [
    {
     "name": "stdout",
     "output_type": "stream",
     "text": [
      "\n",
      "\n",
      "\u001b[1m> Entering new AgentExecutor chain...\u001b[0m\n",
      "\u001b[32;1m\u001b[1;3mI need to check Mehdi's birthdate in his CV data to calculate his age.\n",
      "Action: mehdi_cv_data\n",
      "Action Input: \"What is Mehdi's birthdate?\"\u001b[0m\n",
      "Observation: \u001b[38;5;200m\u001b[1;3m\n",
      "Hello, I am Mehdi HAYANI MECHKOURI, born on January 1st, 2000. I am of Moroccan nationality. Currently in Paris, France. I am currently pursuing a dual degree in Arts et Métiers ParisTech specializing in Digital Engineering, Data Science, and Artificial Intelligence. I am looking for a 6-month internship starting from February 2023 in the field of AI and data science. I am a curious person with a strong thirst for knowledge. I am someone who seeks to solve problems, especially those related to climate change, food security, and energy security. But I am ready to face any challenge. My preferred sector is programming, and I am fascinated by the potential of AI.\n",
      "\n",
      " - Phone: +33 7 52 07 57 72 - Email: mehdi.hayani_mechkouri@ensam.eu - LinkedIn: https://www.linkedin.com/in/mehdi-hayani-mechkouri-9ba3161bb/\n",
      "\n",
      "\n",
      "1. Arts et Métiers – ParisTech: Grande École Program: Digital Engineering / Equivalent engineering degree BAC +5, Paris France campus, started in 2022 - expected completion in 2024\n",
      "2. École Nationale Supérieure d'Arts et Métiers, Meknes 2020-2022: Industrial Engineering cycle, Artificial Intelligence and Data Science option. Equivalent engineering degree BAC +5, Meknes Morocco campus. Started in 2020 - expected completion in 2024\n",
      "3. École Nationale Supérieure d'Arts et Métiers, Meknes 2018-2020: Integrated preparatory class, Equivalent to Bac +2. Meknes Morocco campus. Started in 2018 - finished in 2020\n",
      "4. Lycée Jeanne d'Arc Bac Science, with honors in Physics. Casablanca Morocco. Obtained in 2018\n",
      "\n",
      "\n",
      "- 2nd prize at the UPF CODING CHALLENGE\n",
      "- 3rd prize at the Challenge AM 2023\n",
      "- 3rd prize Robotic brain contest [Link: 'https://www.linkedin.com/feed/update/urn:li:activity:7135598275880996865/']\n",
      "\n",
      "\n",
      "1. Full Stack Developer at GE Grid Solutions - Type: `Internship` between [June - September 2023], Role: [Intern], Title: [Web Developer]. Tasks and Achievements: Digitized the quality control process by creating an ETL system. Automated the data pipeline using RPA. Standardized the database (SQL) and developed a modular user interface. Created a dashboard for Failure Mode and Effects Analysis (DFMEA) using Power BI.\n",
      "2. Data Scientist at AI-Inside - Type: `Internship` between [August 2022 - October 2022], Role: [Intern], Title: [Data Scientist]. Tasks and Achievements: Developed and deployed an application using AI and data scraping to predict car sales prices and identify the most advantageous offers (Flask, MongoDB, TensorFlow, Selenium, Pandas).\n",
      "3. Industrial Engineer at Groupe Renault - Type: `Internship` between [August 2021 - October 2021], Role: [Intern], Title: [Industrial Engineer]. Tasks and Achievements: Actively collaborated on a production line extension project. Conducted in-depth studies on various lifting means.\n",
      "\u001b[0m\n",
      "Thought:\u001b[32;1m\u001b[1;3mI know Mehdi's birthdate is January 1st, 2000. I can now calculate his age.\n",
      "Action: current_date\n",
      "Action Input: \"What is the current year?\"\u001b[0m\n",
      "Observation: \u001b[33;1m\u001b[1;3m2023-12-26 22:02:37.499128\u001b[0m\n",
      "Thought:\u001b[32;1m\u001b[1;3mThe current year is 2023. I can now subtract Mehdi's birth year from the current year to calculate his age.\n",
      "Action: Calculator\n",
      "Action Input: 2023 - 2000\u001b[0m\n",
      "Observation: \u001b[36;1m\u001b[1;3mAnswer: 23\u001b[0m\n",
      "Thought:\u001b[32;1m\u001b[1;3mI now know the final answer\n",
      "Final Answer: Mehdi is 23 years old.\u001b[0m\n",
      "\n",
      "\u001b[1m> Finished chain.\u001b[0m\n"
     ]
    },
    {
     "data": {
      "text/plain": [
       "'Mehdi is 23 years old.'"
      ]
     },
     "execution_count": 20,
     "metadata": {},
     "output_type": "execute_result"
    }
   ],
   "source": [
    "agent.run(\"How old is Mehdi?\")"
   ]
  },
  {
   "cell_type": "code",
   "execution_count": 21,
   "metadata": {},
   "outputs": [
    {
     "name": "stdout",
     "output_type": "stream",
     "text": [
      "\n",
      "\n",
      "\u001b[1m> Entering new AgentExecutor chain...\u001b[0m\n",
      "\u001b[32;1m\u001b[1;3mI need to check Mehdi's CV data to see if he has worked at Google.\n",
      "Action: mehdi_cv_data\n",
      "Action Input: Did Mehdi work at Google?\u001b[0m\n",
      "Observation: \u001b[38;5;200m\u001b[1;3m\n",
      "Hello, I am Mehdi HAYANI MECHKOURI, born on January 1st, 2000. I am of Moroccan nationality. Currently in Paris, France. I am currently pursuing a dual degree in Arts et Métiers ParisTech specializing in Digital Engineering, Data Science, and Artificial Intelligence. I am looking for a 6-month internship starting from February 2023 in the field of AI and data science. I am a curious person with a strong thirst for knowledge. I am someone who seeks to solve problems, especially those related to climate change, food security, and energy security. But I am ready to face any challenge. My preferred sector is programming, and I am fascinated by the potential of AI.\n",
      "\n",
      " - Phone: +33 7 52 07 57 72 - Email: mehdi.hayani_mechkouri@ensam.eu - LinkedIn: https://www.linkedin.com/in/mehdi-hayani-mechkouri-9ba3161bb/\n",
      "\n",
      "\n",
      "1. Full Stack Developer at GE Grid Solutions - Type: `Internship` between [June - September 2023], Role: [Intern], Title: [Web Developer]. Tasks and Achievements: Digitized the quality control process by creating an ETL system. Automated the data pipeline using RPA. Standardized the database (SQL) and developed a modular user interface. Created a dashboard for Failure Mode and Effects Analysis (DFMEA) using Power BI.\n",
      "2. Data Scientist at AI-Inside - Type: `Internship` between [August 2022 - October 2022], Role: [Intern], Title: [Data Scientist]. Tasks and Achievements: Developed and deployed an application using AI and data scraping to predict car sales prices and identify the most advantageous offers (Flask, MongoDB, TensorFlow, Selenium, Pandas).\n",
      "3. Industrial Engineer at Groupe Renault - Type: `Internship` between [August 2021 - October 2021], Role: [Intern], Title: [Industrial Engineer]. Tasks and Achievements: Actively collaborated on a production line extension project. Conducted in-depth studies on various lifting means.\n",
      "\n",
      "\n",
      "1. Arts et Métiers – ParisTech: Grande École Program: Digital Engineering / Equivalent engineering degree BAC +5, Paris France campus, started in 2022 - expected completion in 2024\n",
      "2. École Nationale Supérieure d'Arts et Métiers, Meknes 2020-2022: Industrial Engineering cycle, Artificial Intelligence and Data Science option. Equivalent engineering degree BAC +5, Meknes Morocco campus. Started in 2020 - expected completion in 2024\n",
      "3. École Nationale Supérieure d'Arts et Métiers, Meknes 2018-2020: Integrated preparatory class, Equivalent to Bac +2. Meknes Morocco campus. Started in 2018 - finished in 2020\n",
      "4. Lycée Jeanne d'Arc Bac Science, with honors in Physics. Casablanca Morocco. Obtained in 2018\n",
      "\n",
      "\n",
      "- 2nd prize at the UPF CODING CHALLENGE\n",
      "- 3rd prize at the Challenge AM 2023\n",
      "- 3rd prize Robotic brain contest [Link: 'https://www.linkedin.com/feed/update/urn:li:activity:7135598275880996865/']\n",
      "\u001b[0m\n",
      "Thought:\u001b[32;1m\u001b[1;3mBased on the CV data, Mehdi did not work at Google.\n",
      "Final Answer: No, Mehdi did not work at Google.\u001b[0m\n",
      "\n",
      "\u001b[1m> Finished chain.\u001b[0m\n"
     ]
    },
    {
     "data": {
      "text/plain": [
       "'No, Mehdi did not work at Google.'"
      ]
     },
     "execution_count": 21,
     "metadata": {},
     "output_type": "execute_result"
    }
   ],
   "source": [
    "agent.run(\"Did Mehdi work at Google?\")"
   ]
  },
  {
   "cell_type": "code",
   "execution_count": 22,
   "metadata": {},
   "outputs": [
    {
     "name": "stdout",
     "output_type": "stream",
     "text": [
      "\n",
      "\n",
      "\u001b[1m> Entering new AgentExecutor chain...\u001b[0m\n",
      "\u001b[32;1m\u001b[1;3mThe question is asking about Mehdi's certifications, which is information that would be found in his CV. I should use the mehdi_cv_data function to get this information.\n",
      "Action: mehdi_cv_data\n",
      "Action Input: How many certifications does Mehdi have? and what are they?\u001b[0m\n",
      "Observation: \u001b[38;5;200m\u001b[1;3m\n",
      "Hello, I am Mehdi HAYANI MECHKOURI, born on January 1st, 2000. I am of Moroccan nationality. Currently in Paris, France. I am currently pursuing a dual degree in Arts et Métiers ParisTech specializing in Digital Engineering, Data Science, and Artificial Intelligence. I am looking for a 6-month internship starting from February 2023 in the field of AI and data science. I am a curious person with a strong thirst for knowledge. I am someone who seeks to solve problems, especially those related to climate change, food security, and energy security. But I am ready to face any challenge. My preferred sector is programming, and I am fascinated by the potential of AI.\n",
      "\n",
      " - Phone: +33 7 52 07 57 72 - Email: mehdi.hayani_mechkouri@ensam.eu - LinkedIn: https://www.linkedin.com/in/mehdi-hayani-mechkouri-9ba3161bb/\n",
      "\n",
      "\n",
      "1. Arts et Métiers – ParisTech: Grande École Program: Digital Engineering / Equivalent engineering degree BAC +5, Paris France campus, started in 2022 - expected completion in 2024\n",
      "2. École Nationale Supérieure d'Arts et Métiers, Meknes 2020-2022: Industrial Engineering cycle, Artificial Intelligence and Data Science option. Equivalent engineering degree BAC +5, Meknes Morocco campus. Started in 2020 - expected completion in 2024\n",
      "3. École Nationale Supérieure d'Arts et Métiers, Meknes 2018-2020: Integrated preparatory class, Equivalent to Bac +2. Meknes Morocco campus. Started in 2018 - finished in 2020\n",
      "4. Lycée Jeanne d'Arc Bac Science, with honors in Physics. Casablanca Morocco. Obtained in 2018\n",
      "\n",
      "\n",
      "- 2nd prize at the UPF CODING CHALLENGE\n",
      "- 3rd prize at the Challenge AM 2023\n",
      "- 3rd prize Robotic brain contest [Link: 'https://www.linkedin.com/feed/update/urn:li:activity:7135598275880996865/']\n",
      "\n",
      "\n",
      "- French TCF C2\n",
      "- English TOIEC C1*\n",
      "- Arabic (native language)\n",
      "- German A1\n",
      "\u001b[0m\n",
      "Thought:\u001b[32;1m\u001b[1;3mThe information returned does not contain any details about Mehdi's certifications.\n",
      "Action: no_answer_found\n",
      "Action Input: How many certifications does Mehdi have? and what are they?\u001b[0m\n",
      "Observation: \u001b[33;1m\u001b[1;3m\n",
      "\n",
      "I'm sorry, I don't have that information, please contact Mehdi for more details.\u001b[0m\n",
      "\u001b[32;1m\u001b[1;3m\u001b[0m\n",
      "\n",
      "\u001b[1m> Finished chain.\u001b[0m\n"
     ]
    },
    {
     "data": {
      "text/plain": [
       "\"\\n\\nI'm sorry, I don't have that information, please contact Mehdi for more details.\""
      ]
     },
     "execution_count": 22,
     "metadata": {},
     "output_type": "execute_result"
    }
   ],
   "source": [
    "agent.run(\"How many certifications does Mehdi have? and what are they?\")"
   ]
  },
  {
   "cell_type": "code",
   "execution_count": 23,
   "metadata": {},
   "outputs": [
    {
     "name": "stdout",
     "output_type": "stream",
     "text": [
      "\n",
      "\n",
      "\u001b[1m> Entering new AgentExecutor chain...\u001b[0m\n",
      "\u001b[32;1m\u001b[1;3mI need to look at Mehdi's CV data to find out which internship is the oldest.\n",
      "Action: mehdi_cv_data\n",
      "Action Input: \"What is Mehdi's oldest internship?\"\u001b[0m\n",
      "Observation: \u001b[38;5;200m\u001b[1;3m\n",
      "Hello, I am Mehdi HAYANI MECHKOURI, born on January 1st, 2000. I am of Moroccan nationality. Currently in Paris, France. I am currently pursuing a dual degree in Arts et Métiers ParisTech specializing in Digital Engineering, Data Science, and Artificial Intelligence. I am looking for a 6-month internship starting from February 2023 in the field of AI and data science. I am a curious person with a strong thirst for knowledge. I am someone who seeks to solve problems, especially those related to climate change, food security, and energy security. But I am ready to face any challenge. My preferred sector is programming, and I am fascinated by the potential of AI.\n",
      "\n",
      " - Phone: +33 7 52 07 57 72 - Email: mehdi.hayani_mechkouri@ensam.eu - LinkedIn: https://www.linkedin.com/in/mehdi-hayani-mechkouri-9ba3161bb/\n",
      "\n",
      "\n",
      "1. Full Stack Developer at GE Grid Solutions - Type: `Internship` between [June - September 2023], Role: [Intern], Title: [Web Developer]. Tasks and Achievements: Digitized the quality control process by creating an ETL system. Automated the data pipeline using RPA. Standardized the database (SQL) and developed a modular user interface. Created a dashboard for Failure Mode and Effects Analysis (DFMEA) using Power BI.\n",
      "2. Data Scientist at AI-Inside - Type: `Internship` between [August 2022 - October 2022], Role: [Intern], Title: [Data Scientist]. Tasks and Achievements: Developed and deployed an application using AI and data scraping to predict car sales prices and identify the most advantageous offers (Flask, MongoDB, TensorFlow, Selenium, Pandas).\n",
      "3. Industrial Engineer at Groupe Renault - Type: `Internship` between [August 2021 - October 2021], Role: [Intern], Title: [Industrial Engineer]. Tasks and Achievements: Actively collaborated on a production line extension project. Conducted in-depth studies on various lifting means.\n",
      "\n",
      "\n",
      "1. Arts et Métiers – ParisTech: Grande École Program: Digital Engineering / Equivalent engineering degree BAC +5, Paris France campus, started in 2022 - expected completion in 2024\n",
      "2. École Nationale Supérieure d'Arts et Métiers, Meknes 2020-2022: Industrial Engineering cycle, Artificial Intelligence and Data Science option. Equivalent engineering degree BAC +5, Meknes Morocco campus. Started in 2020 - expected completion in 2024\n",
      "3. École Nationale Supérieure d'Arts et Métiers, Meknes 2018-2020: Integrated preparatory class, Equivalent to Bac +2. Meknes Morocco campus. Started in 2018 - finished in 2020\n",
      "4. Lycée Jeanne d'Arc Bac Science, with honors in Physics. Casablanca Morocco. Obtained in 2018\n",
      "\n",
      "\n",
      "- 2nd prize at the UPF CODING CHALLENGE\n",
      "- 3rd prize at the Challenge AM 2023\n",
      "- 3rd prize Robotic brain contest [Link: 'https://www.linkedin.com/feed/update/urn:li:activity:7135598275880996865/']\n",
      "\u001b[0m\n",
      "Thought:\u001b[32;1m\u001b[1;3mThe oldest internship listed in Mehdi's CV is the one at Groupe Renault.\n",
      "Final Answer: The oldest internship is the one at Groupe Renault which occurred between August 2021 and October 2021.\u001b[0m\n",
      "\n",
      "\u001b[1m> Finished chain.\u001b[0m\n"
     ]
    },
    {
     "data": {
      "text/plain": [
       "'The oldest internship is the one at Groupe Renault which occurred between August 2021 and October 2021.'"
      ]
     },
     "execution_count": 23,
     "metadata": {},
     "output_type": "execute_result"
    }
   ],
   "source": [
    "agent.run(\"wich one is the oldest internship?\")"
   ]
  },
  {
   "cell_type": "code",
   "execution_count": 24,
   "metadata": {},
   "outputs": [
    {
     "name": "stdout",
     "output_type": "stream",
     "text": [
      "\n",
      "\n",
      "\u001b[1m> Entering new AgentExecutor chain...\u001b[0m\n",
      "\u001b[32;1m\u001b[1;3mThe question is asking for specific information from Mehdi's CV.\n",
      "Action: mehdi_cv_data\n",
      "Action Input: What position did Mehdi occupy at GE Grid Solutions?\u001b[0m\n",
      "Observation: \u001b[38;5;200m\u001b[1;3m\n",
      "1. Full Stack Developer at GE Grid Solutions - Type: `Internship` between [June - September 2023], Role: [Intern], Title: [Web Developer]. Tasks and Achievements: Digitized the quality control process by creating an ETL system. Automated the data pipeline using RPA. Standardized the database (SQL) and developed a modular user interface. Created a dashboard for Failure Mode and Effects Analysis (DFMEA) using Power BI.\n",
      "2. Data Scientist at AI-Inside - Type: `Internship` between [August 2022 - October 2022], Role: [Intern], Title: [Data Scientist]. Tasks and Achievements: Developed and deployed an application using AI and data scraping to predict car sales prices and identify the most advantageous offers (Flask, MongoDB, TensorFlow, Selenium, Pandas).\n",
      "3. Industrial Engineer at Groupe Renault - Type: `Internship` between [August 2021 - October 2021], Role: [Intern], Title: [Industrial Engineer]. Tasks and Achievements: Actively collaborated on a production line extension project. Conducted in-depth studies on various lifting means.\n",
      "\n",
      "\n",
      "Hello, I am Mehdi HAYANI MECHKOURI, born on January 1st, 2000. I am of Moroccan nationality. Currently in Paris, France. I am currently pursuing a dual degree in Arts et Métiers ParisTech specializing in Digital Engineering, Data Science, and Artificial Intelligence. I am looking for a 6-month internship starting from February 2023 in the field of AI and data science. I am a curious person with a strong thirst for knowledge. I am someone who seeks to solve problems, especially those related to climate change, food security, and energy security. But I am ready to face any challenge. My preferred sector is programming, and I am fascinated by the potential of AI.\n",
      "\n",
      " - Phone: +33 7 52 07 57 72 - Email: mehdi.hayani_mechkouri@ensam.eu - LinkedIn: https://www.linkedin.com/in/mehdi-hayani-mechkouri-9ba3161bb/\n",
      "\n",
      "\n",
      "1. Arts et Métiers – ParisTech: Grande École Program: Digital Engineering / Equivalent engineering degree BAC +5, Paris France campus, started in 2022 - expected completion in 2024\n",
      "2. École Nationale Supérieure d'Arts et Métiers, Meknes 2020-2022: Industrial Engineering cycle, Artificial Intelligence and Data Science option. Equivalent engineering degree BAC +5, Meknes Morocco campus. Started in 2020 - expected completion in 2024\n",
      "3. École Nationale Supérieure d'Arts et Métiers, Meknes 2018-2020: Integrated preparatory class, Equivalent to Bac +2. Meknes Morocco campus. Started in 2018 - finished in 2020\n",
      "4. Lycée Jeanne d'Arc Bac Science, with honors in Physics. Casablanca Morocco. Obtained in 2018\n",
      "\n",
      "\n",
      "- 2nd prize at the UPF CODING CHALLENGE\n",
      "- 3rd prize at the Challenge AM 2023\n",
      "- 3rd prize Robotic brain contest [Link: 'https://www.linkedin.com/feed/update/urn:li:activity:7135598275880996865/']\n",
      "\u001b[0m\n",
      "Thought:\u001b[32;1m\u001b[1;3mI now know the final answer.\n",
      "Final Answer: Mehdi occupied the position of Full Stack Developer at GE Grid Solutions.\u001b[0m\n",
      "\n",
      "\u001b[1m> Finished chain.\u001b[0m\n"
     ]
    },
    {
     "data": {
      "text/plain": [
       "'Mehdi occupied the position of Full Stack Developer at GE Grid Solutions.'"
      ]
     },
     "execution_count": 24,
     "metadata": {},
     "output_type": "execute_result"
    }
   ],
   "source": [
    "agent.run(\"what position did mehdi occupie at GE grid solutions?\")"
   ]
  },
  {
   "cell_type": "code",
   "execution_count": 25,
   "metadata": {},
   "outputs": [
    {
     "name": "stdout",
     "output_type": "stream",
     "text": [
      "\n",
      "\n",
      "\u001b[1m> Entering new AgentExecutor chain...\u001b[0m\n",
      "\u001b[32;1m\u001b[1;3mI need to access Mehdi's CV data to answer this question.\n",
      "Action: mehdi_cv_data\n",
      "Action Input: What internships did Mehdi do?\u001b[0m\n",
      "Observation: \u001b[38;5;200m\u001b[1;3m\n",
      "Hello, I am Mehdi HAYANI MECHKOURI, born on January 1st, 2000. I am of Moroccan nationality. Currently in Paris, France. I am currently pursuing a dual degree in Arts et Métiers ParisTech specializing in Digital Engineering, Data Science, and Artificial Intelligence. I am looking for a 6-month internship starting from February 2023 in the field of AI and data science. I am a curious person with a strong thirst for knowledge. I am someone who seeks to solve problems, especially those related to climate change, food security, and energy security. But I am ready to face any challenge. My preferred sector is programming, and I am fascinated by the potential of AI.\n",
      "\n",
      " - Phone: +33 7 52 07 57 72 - Email: mehdi.hayani_mechkouri@ensam.eu - LinkedIn: https://www.linkedin.com/in/mehdi-hayani-mechkouri-9ba3161bb/\n",
      "\n",
      "\n",
      "1. Full Stack Developer at GE Grid Solutions - Type: `Internship` between [June - September 2023], Role: [Intern], Title: [Web Developer]. Tasks and Achievements: Digitized the quality control process by creating an ETL system. Automated the data pipeline using RPA. Standardized the database (SQL) and developed a modular user interface. Created a dashboard for Failure Mode and Effects Analysis (DFMEA) using Power BI.\n",
      "2. Data Scientist at AI-Inside - Type: `Internship` between [August 2022 - October 2022], Role: [Intern], Title: [Data Scientist]. Tasks and Achievements: Developed and deployed an application using AI and data scraping to predict car sales prices and identify the most advantageous offers (Flask, MongoDB, TensorFlow, Selenium, Pandas).\n",
      "3. Industrial Engineer at Groupe Renault - Type: `Internship` between [August 2021 - October 2021], Role: [Intern], Title: [Industrial Engineer]. Tasks and Achievements: Actively collaborated on a production line extension project. Conducted in-depth studies on various lifting means.\n",
      "\n",
      "\n",
      "1. Arts et Métiers – ParisTech: Grande École Program: Digital Engineering / Equivalent engineering degree BAC +5, Paris France campus, started in 2022 - expected completion in 2024\n",
      "2. École Nationale Supérieure d'Arts et Métiers, Meknes 2020-2022: Industrial Engineering cycle, Artificial Intelligence and Data Science option. Equivalent engineering degree BAC +5, Meknes Morocco campus. Started in 2020 - expected completion in 2024\n",
      "3. École Nationale Supérieure d'Arts et Métiers, Meknes 2018-2020: Integrated preparatory class, Equivalent to Bac +2. Meknes Morocco campus. Started in 2018 - finished in 2020\n",
      "4. Lycée Jeanne d'Arc Bac Science, with honors in Physics. Casablanca Morocco. Obtained in 2018\n",
      "\n",
      "\n",
      "- 2nd prize at the UPF CODING CHALLENGE\n",
      "- 3rd prize at the Challenge AM 2023\n",
      "- 3rd prize Robotic brain contest [Link: 'https://www.linkedin.com/feed/update/urn:li:activity:7135598275880996865/']\n",
      "\u001b[0m\n",
      "Thought:\u001b[32;1m\u001b[1;3mI now have the information about Mehdi's internships.\n",
      "Final Answer: Mehdi has done the following internships:\n",
      "1. Full Stack Developer at GE Grid Solutions between June and September 2023. During this internship, he digitized the quality control process by creating an ETL system, automated the data pipeline using RPA, standardized the database (SQL), developed a modular user interface, and created a dashboard for Failure Mode and Effects Analysis (DFMEA) using Power BI.\n",
      "2. Data Scientist at AI-Inside between August and October 2022. He developed and deployed an application using AI and data scraping to predict car sales prices and identify the most advantageous offers (Flask, MongoDB, TensorFlow, Selenium, Pandas) during this internship.\n",
      "3. Industrial Engineer at Groupe Renault between August and October 2021. He actively collaborated on a production line extension project and conducted in-depth studies on various lifting means during this internship.\u001b[0m\n",
      "\n",
      "\u001b[1m> Finished chain.\u001b[0m\n"
     ]
    },
    {
     "data": {
      "text/plain": [
       "'Mehdi has done the following internships:\\n1. Full Stack Developer at GE Grid Solutions between June and September 2023. During this internship, he digitized the quality control process by creating an ETL system, automated the data pipeline using RPA, standardized the database (SQL), developed a modular user interface, and created a dashboard for Failure Mode and Effects Analysis (DFMEA) using Power BI.\\n2. Data Scientist at AI-Inside between August and October 2022. He developed and deployed an application using AI and data scraping to predict car sales prices and identify the most advantageous offers (Flask, MongoDB, TensorFlow, Selenium, Pandas) during this internship.\\n3. Industrial Engineer at Groupe Renault between August and October 2021. He actively collaborated on a production line extension project and conducted in-depth studies on various lifting means during this internship.'"
      ]
     },
     "execution_count": 25,
     "metadata": {},
     "output_type": "execute_result"
    }
   ],
   "source": [
    "agent.run(\"What are the inernships that mehdi did?\")"
   ]
  },
  {
   "cell_type": "code",
   "execution_count": 27,
   "metadata": {},
   "outputs": [
    {
     "name": "stdout",
     "output_type": "stream",
     "text": [
      "\n",
      "\n",
      "\u001b[1m> Entering new AgentExecutor chain...\u001b[0m\n",
      "\u001b[32;1m\u001b[1;3mI need to look up Mehdi's contact information.\n",
      "Action: mehdi_cv_data\n",
      "Action Input: What is Mehdi's contact information?\u001b[0m\n",
      "Observation: \u001b[38;5;200m\u001b[1;3m - Phone: +33 7 52 07 57 72 - Email: mehdi.hayani_mechkouri@ensam.eu - LinkedIn: https://www.linkedin.com/in/mehdi-hayani-mechkouri-9ba3161bb/\n",
      "\n",
      "\n",
      "Hello, I am Mehdi HAYANI MECHKOURI, born on January 1st, 2000. I am of Moroccan nationality. Currently in Paris, France. I am currently pursuing a dual degree in Arts et Métiers ParisTech specializing in Digital Engineering, Data Science, and Artificial Intelligence. I am looking for a 6-month internship starting from February 2023 in the field of AI and data science. I am a curious person with a strong thirst for knowledge. I am someone who seeks to solve problems, especially those related to climate change, food security, and energy security. But I am ready to face any challenge. My preferred sector is programming, and I am fascinated by the potential of AI.\n",
      "\n",
      "\n",
      "1. Arts et Métiers – ParisTech: Grande École Program: Digital Engineering / Equivalent engineering degree BAC +5, Paris France campus, started in 2022 - expected completion in 2024\n",
      "2. École Nationale Supérieure d'Arts et Métiers, Meknes 2020-2022: Industrial Engineering cycle, Artificial Intelligence and Data Science option. Equivalent engineering degree BAC +5, Meknes Morocco campus. Started in 2020 - expected completion in 2024\n",
      "3. École Nationale Supérieure d'Arts et Métiers, Meknes 2018-2020: Integrated preparatory class, Equivalent to Bac +2. Meknes Morocco campus. Started in 2018 - finished in 2020\n",
      "4. Lycée Jeanne d'Arc Bac Science, with honors in Physics. Casablanca Morocco. Obtained in 2018\n",
      "\n",
      "\n",
      "- 2nd prize at the UPF CODING CHALLENGE\n",
      "- 3rd prize at the Challenge AM 2023\n",
      "- 3rd prize Robotic brain contest [Link: 'https://www.linkedin.com/feed/update/urn:li:activity:7135598275880996865/']\n",
      "\n",
      " Volunteer Trainer in Programming for High School Students - Instructor in SQL for University Students - resident of the Computer Club at Arts et Métiers 2021-2022\n",
      "\u001b[0m\n",
      "Thought:\u001b[32;1m\u001b[1;3mI now know the final answer.\n",
      "Final Answer: You can contact Mehdi through the following methods: \n",
      "- Phone: +33 7 52 07 57 72 \n",
      "- Email: mehdi.hayani_mechkouri@ensam.eu \n",
      "- LinkedIn: https://www.linkedin.com/in/mehdi-hayani-mechkouri-9ba3161bb/\u001b[0m\n",
      "\n",
      "\u001b[1m> Finished chain.\u001b[0m\n"
     ]
    }
   ],
   "source": [
    "output = agent.run(\"How can I contact Mehdi?\")"
   ]
  },
  {
   "cell_type": "code",
   "execution_count": 28,
   "metadata": {},
   "outputs": [
    {
     "name": "stdout",
     "output_type": "stream",
     "text": [
      "You can contact Mehdi through the following methods: \n",
      "- Phone: +33 7 52 07 57 72 \n",
      "- Email: mehdi.hayani_mechkouri@ensam.eu \n",
      "- LinkedIn: https://www.linkedin.com/in/mehdi-hayani-mechkouri-9ba3161bb/\n"
     ]
    }
   ],
   "source": [
    "print(output)"
   ]
  },
  {
   "cell_type": "code",
   "execution_count": 29,
   "metadata": {},
   "outputs": [
    {
     "name": "stdout",
     "output_type": "stream",
     "text": [
      "\n",
      "\n",
      "\u001b[1m> Entering new AgentExecutor chain...\u001b[0m\n",
      "\u001b[32;1m\u001b[1;3mLa question concerne les informations sur le CV de Mehdi. Je devrais utiliser l'outil mehdi_cv_data pour obtenir cette information.\n",
      "Action: mehdi_cv_data\n",
      "Action Input: Combien de langues parle Mehdi ?\u001b[0m\n",
      "Observation: \u001b[38;5;200m\u001b[1;3m\n",
      "Hello, I am Mehdi HAYANI MECHKOURI, born on January 1st, 2000. I am of Moroccan nationality. Currently in Paris, France. I am currently pursuing a dual degree in Arts et Métiers ParisTech specializing in Digital Engineering, Data Science, and Artificial Intelligence. I am looking for a 6-month internship starting from February 2023 in the field of AI and data science. I am a curious person with a strong thirst for knowledge. I am someone who seeks to solve problems, especially those related to climate change, food security, and energy security. But I am ready to face any challenge. My preferred sector is programming, and I am fascinated by the potential of AI.\n",
      "\n",
      " - Phone: +33 7 52 07 57 72 - Email: mehdi.hayani_mechkouri@ensam.eu - LinkedIn: https://www.linkedin.com/in/mehdi-hayani-mechkouri-9ba3161bb/\n",
      "\n",
      "\n",
      "- French TCF C2\n",
      "- English TOIEC C1*\n",
      "- Arabic (native language)\n",
      "- German A1\n",
      "\n",
      "\n",
      "1. Arts et Métiers – ParisTech: Grande École Program: Digital Engineering / Equivalent engineering degree BAC +5, Paris France campus, started in 2022 - expected completion in 2024\n",
      "2. École Nationale Supérieure d'Arts et Métiers, Meknes 2020-2022: Industrial Engineering cycle, Artificial Intelligence and Data Science option. Equivalent engineering degree BAC +5, Meknes Morocco campus. Started in 2020 - expected completion in 2024\n",
      "3. École Nationale Supérieure d'Arts et Métiers, Meknes 2018-2020: Integrated preparatory class, Equivalent to Bac +2. Meknes Morocco campus. Started in 2018 - finished in 2020\n",
      "4. Lycée Jeanne d'Arc Bac Science, with honors in Physics. Casablanca Morocco. Obtained in 2018\n",
      "\n",
      "\n",
      "Programming Languages:\n",
      "- Python: Proficient for 6 years, used in data analysis, machine learning, and web development.\n",
      "- C++ and C: Proficient for 6 years, applied in software development and algorithm design.\n",
      "- Matlab: Experience of 4 years, primarily used for scientific computing, numerical analysis, and algorithm prototyping.\n",
      "- JavaScript: Proficiency of 3 years, employed in web development for frontend interactivity and functionality.\n",
      "- SQL for database management (SQLite, MySQL, PostgreSQL)\n",
      "Frameworks:\n",
      "- Frontend: Proficient in React and Svelte, used for developing dynamic and responsive user interfaces.\n",
      "- Backend: Proficient in Flask, Streamlit, and FastAPI, employed for creating backend services, APIs, and web applications.\n",
      "- Machine Learning: Competent in TensorFlow and PyTorch, utilized for implementing and deploying machine learning models in various projects.\n",
      "- Version Control: Proficient in Git for managing and tracking changes in codebase collaboration.\n",
      "- Office Suite: Proficient in Microsoft Office tools such as PowerPoint, Word, and Excel for documentation, presentation, and data analysis.\n",
      "\u001b[0m\n",
      "Thought:\u001b[32;1m\u001b[1;3mJ'ai maintenant l'information nécessaire pour répondre à la question.\n",
      "Final Answer: Mehdi parle 4 langues : le français, l'anglais, l'arabe et l'allemand.\u001b[0m\n",
      "\n",
      "\u001b[1m> Finished chain.\u001b[0m\n",
      "Mehdi parle 4 langues : le français, l'anglais, l'arabe et l'allemand.\n"
     ]
    }
   ],
   "source": [
    "langues = agent.run(\"Combien de langues parle Mehdi ?\")\n",
    "print(langues)"
   ]
  },
  {
   "cell_type": "code",
   "execution_count": 30,
   "metadata": {},
   "outputs": [
    {
     "name": "stdout",
     "output_type": "stream",
     "text": [
      "\n",
      "\n",
      "\u001b[1m> Entering new AgentExecutor chain...\u001b[0m\n",
      "\u001b[32;1m\u001b[1;3mThe question is asking if Mehdi has experience in data science. This is a question about Mehdi's CV.\n",
      "Action: mehdi_cv_data\n",
      "Action Input: \"Does Mehdi have experience in data science?\"\u001b[0m\n",
      "Observation: \u001b[38;5;200m\u001b[1;3m\n",
      "Hello, I am Mehdi HAYANI MECHKOURI, born on January 1st, 2000. I am of Moroccan nationality. Currently in Paris, France. I am currently pursuing a dual degree in Arts et Métiers ParisTech specializing in Digital Engineering, Data Science, and Artificial Intelligence. I am looking for a 6-month internship starting from February 2023 in the field of AI and data science. I am a curious person with a strong thirst for knowledge. I am someone who seeks to solve problems, especially those related to climate change, food security, and energy security. But I am ready to face any challenge. My preferred sector is programming, and I am fascinated by the potential of AI.\n",
      "\n",
      " - Phone: +33 7 52 07 57 72 - Email: mehdi.hayani_mechkouri@ensam.eu - LinkedIn: https://www.linkedin.com/in/mehdi-hayani-mechkouri-9ba3161bb/\n",
      "\n",
      "\n",
      "1. Full Stack Developer at GE Grid Solutions - Type: `Internship` between [June - September 2023], Role: [Intern], Title: [Web Developer]. Tasks and Achievements: Digitized the quality control process by creating an ETL system. Automated the data pipeline using RPA. Standardized the database (SQL) and developed a modular user interface. Created a dashboard for Failure Mode and Effects Analysis (DFMEA) using Power BI.\n",
      "2. Data Scientist at AI-Inside - Type: `Internship` between [August 2022 - October 2022], Role: [Intern], Title: [Data Scientist]. Tasks and Achievements: Developed and deployed an application using AI and data scraping to predict car sales prices and identify the most advantageous offers (Flask, MongoDB, TensorFlow, Selenium, Pandas).\n",
      "3. Industrial Engineer at Groupe Renault - Type: `Internship` between [August 2021 - October 2021], Role: [Intern], Title: [Industrial Engineer]. Tasks and Achievements: Actively collaborated on a production line extension project. Conducted in-depth studies on various lifting means.\n",
      "\n",
      "\n",
      "Programming Languages:\n",
      "- Python: Proficient for 6 years, used in data analysis, machine learning, and web development.\n",
      "- C++ and C: Proficient for 6 years, applied in software development and algorithm design.\n",
      "- Matlab: Experience of 4 years, primarily used for scientific computing, numerical analysis, and algorithm prototyping.\n",
      "- JavaScript: Proficiency of 3 years, employed in web development for frontend interactivity and functionality.\n",
      "- SQL for database management (SQLite, MySQL, PostgreSQL)\n",
      "Frameworks:\n",
      "- Frontend: Proficient in React and Svelte, used for developing dynamic and responsive user interfaces.\n",
      "- Backend: Proficient in Flask, Streamlit, and FastAPI, employed for creating backend services, APIs, and web applications.\n",
      "- Machine Learning: Competent in TensorFlow and PyTorch, utilized for implementing and deploying machine learning models in various projects.\n",
      "- Version Control: Proficient in Git for managing and tracking changes in codebase collaboration.\n",
      "- Office Suite: Proficient in Microsoft Office tools such as PowerPoint, Word, and Excel for documentation, presentation, and data analysis.\n",
      "\n",
      "\n",
      "1. Arts et Métiers – ParisTech: Grande École Program: Digital Engineering / Equivalent engineering degree BAC +5, Paris France campus, started in 2022 - expected completion in 2024\n",
      "2. École Nationale Supérieure d'Arts et Métiers, Meknes 2020-2022: Industrial Engineering cycle, Artificial Intelligence and Data Science option. Equivalent engineering degree BAC +5, Meknes Morocco campus. Started in 2020 - expected completion in 2024\n",
      "3. École Nationale Supérieure d'Arts et Métiers, Meknes 2018-2020: Integrated preparatory class, Equivalent to Bac +2. Meknes Morocco campus. Started in 2018 - finished in 2020\n",
      "4. Lycée Jeanne d'Arc Bac Science, with honors in Physics. Casablanca Morocco. Obtained in 2018\n",
      "\u001b[0m\n",
      "Thought:\u001b[32;1m\u001b[1;3mThe CV data shows that Mehdi has experience in data science. He has a specialization in Digital Engineering, Data Science, and Artificial Intelligence from Arts et Métiers ParisTech. He has also worked as a Data Scientist at AI-Inside.\n",
      "Final Answer: Oui, Mehdi a une expérience en science des données. Il a une spécialisation en Ingénierie Numérique, Science des Données et Intelligence Artificielle de Arts et Métiers ParisTech. Il a également travaillé en tant que Data Scientist chez AI-Inside.\u001b[0m\n",
      "\n",
      "\u001b[1m> Finished chain.\u001b[0m\n",
      "Oui, Mehdi a une expérience en science des données. Il a une spécialisation en Ingénierie Numérique, Science des Données et Intelligence Artificielle de Arts et Métiers ParisTech. Il a également travaillé en tant que Data Scientist chez AI-Inside.\n"
     ]
    }
   ],
   "source": [
    "output = agent.run(\"es-ce que Mehdi a une experience en data science?\")\n",
    "print(output)"
   ]
  },
  {
   "cell_type": "code",
   "execution_count": 31,
   "metadata": {},
   "outputs": [
    {
     "name": "stdout",
     "output_type": "stream",
     "text": [
      "\n",
      "\n",
      "\u001b[1m> Entering new AgentExecutor chain...\u001b[0m\n",
      "\u001b[32;1m\u001b[1;3mI need to retrieve this information from Mehdi's CV.\n",
      "Action: mehdi_cv_data\n",
      "Action Input: How many internships did Mehdi do?\u001b[0m\n",
      "Observation: \u001b[38;5;200m\u001b[1;3m\n",
      "Hello, I am Mehdi HAYANI MECHKOURI, born on January 1st, 2000. I am of Moroccan nationality. Currently in Paris, France. I am currently pursuing a dual degree in Arts et Métiers ParisTech specializing in Digital Engineering, Data Science, and Artificial Intelligence. I am looking for a 6-month internship starting from February 2023 in the field of AI and data science. I am a curious person with a strong thirst for knowledge. I am someone who seeks to solve problems, especially those related to climate change, food security, and energy security. But I am ready to face any challenge. My preferred sector is programming, and I am fascinated by the potential of AI.\n",
      "\n",
      " - Phone: +33 7 52 07 57 72 - Email: mehdi.hayani_mechkouri@ensam.eu - LinkedIn: https://www.linkedin.com/in/mehdi-hayani-mechkouri-9ba3161bb/\n",
      "\n",
      "\n",
      "1. Full Stack Developer at GE Grid Solutions - Type: `Internship` between [June - September 2023], Role: [Intern], Title: [Web Developer]. Tasks and Achievements: Digitized the quality control process by creating an ETL system. Automated the data pipeline using RPA. Standardized the database (SQL) and developed a modular user interface. Created a dashboard for Failure Mode and Effects Analysis (DFMEA) using Power BI.\n",
      "2. Data Scientist at AI-Inside - Type: `Internship` between [August 2022 - October 2022], Role: [Intern], Title: [Data Scientist]. Tasks and Achievements: Developed and deployed an application using AI and data scraping to predict car sales prices and identify the most advantageous offers (Flask, MongoDB, TensorFlow, Selenium, Pandas).\n",
      "3. Industrial Engineer at Groupe Renault - Type: `Internship` between [August 2021 - October 2021], Role: [Intern], Title: [Industrial Engineer]. Tasks and Achievements: Actively collaborated on a production line extension project. Conducted in-depth studies on various lifting means.\n",
      "\n",
      "\n",
      "1. Arts et Métiers – ParisTech: Grande École Program: Digital Engineering / Equivalent engineering degree BAC +5, Paris France campus, started in 2022 - expected completion in 2024\n",
      "2. École Nationale Supérieure d'Arts et Métiers, Meknes 2020-2022: Industrial Engineering cycle, Artificial Intelligence and Data Science option. Equivalent engineering degree BAC +5, Meknes Morocco campus. Started in 2020 - expected completion in 2024\n",
      "3. École Nationale Supérieure d'Arts et Métiers, Meknes 2018-2020: Integrated preparatory class, Equivalent to Bac +2. Meknes Morocco campus. Started in 2018 - finished in 2020\n",
      "4. Lycée Jeanne d'Arc Bac Science, with honors in Physics. Casablanca Morocco. Obtained in 2018\n",
      "\n",
      "\n",
      "- 2nd prize at the UPF CODING CHALLENGE\n",
      "- 3rd prize at the Challenge AM 2023\n",
      "- 3rd prize Robotic brain contest [Link: 'https://www.linkedin.com/feed/update/urn:li:activity:7135598275880996865/']\n",
      "\u001b[0m\n",
      "Thought:\u001b[32;1m\u001b[1;3mI can see from the CV data that Mehdi has done three internships.\n",
      "Final Answer: Mehdi has done three internships.\u001b[0m\n",
      "\n",
      "\u001b[1m> Finished chain.\u001b[0m\n",
      "Mehdi has done three internships.\n"
     ]
    }
   ],
   "source": [
    "output = agent.run(\"How many internships did Mehdi do?\")\n",
    "print(output)"
   ]
  },
  {
   "cell_type": "markdown",
   "metadata": {},
   "source": [
    "## Conclusion"
   ]
  },
  {
   "cell_type": "markdown",
   "metadata": {},
   "source": [
    "The agent gives good answers overall but it needs to use chat gpt 4 in order to give accurate answers"
   ]
  }
 ],
 "metadata": {
  "kernelspec": {
   "display_name": "base",
   "language": "python",
   "name": "python3"
  },
  "language_info": {
   "codemirror_mode": {
    "name": "ipython",
    "version": 3
   },
   "file_extension": ".py",
   "mimetype": "text/x-python",
   "name": "python",
   "nbconvert_exporter": "python",
   "pygments_lexer": "ipython3",
   "version": "3.9.13"
  }
 },
 "nbformat": 4,
 "nbformat_minor": 2
}
